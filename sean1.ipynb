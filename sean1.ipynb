{
 "cells": [
  {
   "cell_type": "code",
   "execution_count": null,
   "metadata": {},
   "outputs": [],
   "source": [
    "import numpy as np\n",
    "from scipy.stats import ttest_1samp, wilcoxon, ttest_ind, mannwhitneyu"
   ]
  },
  {
   "cell_type": "code",
   "execution_count": null,
   "metadata": {},
   "outputs": [],
   "source": [
    "# mean values\n",
    "daily_intake = np.array([5260,5470,5640,6180,6390,6515,\n",
    "                         6805,7515,7515,8230,8770])\n",
    "\n",
    "# one sample t-test\n",
    "# null hypothesis: expected value =\n",
    "t_statistic, p_value = ttest_1samp(daily_intake, 7725)\n",
    "\n",
    "# p_value < 0.05 => alternative hypothesis:\n",
    "# data deviate significantly from the hypothesis that the mean\n",
    "# is ___ at the 5% level of significance\n",
    "print \"one-sample t-test\", p_value\n",
    "\n",
    "# one sample wilcoxon-test\n",
    "z_statistic, p_value = wilcoxon(daily_intake - 7725)\n",
    "print \"one-sample wilcoxon-test\", p_value"
   ]
  },
  {
   "cell_type": "code",
   "execution_count": null,
   "metadata": {},
   "outputs": [],
   "source": [
    "stress = np.array([\n",
    "# data\n",
    "[x, y],\n",
    "[x, y],\n",
    "[x, y],\n",
    "[x, y],\n",
    "[x, y],\n",
    "[x, y],\n",
    "[x, y],\n",
    "[x, y],\n",
    "[x, y],\n",
    "[x, y],\n",
    "[x, y],\n",
    "[x, y]])\n",
    "\n",
    "# similar to expend ~ stature in R\n",
    "group1 = stress[:, 1] == 0\n",
    "group1 = stress[group1][:, 0]\n",
    "group2 = stress[:, 1] == 1\n",
    "group2 = stress[group2][:, 0]\n",
    "\n",
    "# two-sample t-test\n",
    "# null hypothesis: the two groups have the same mean\n",
    "# this test assumes the two groups have the same variance...\n",
    "# (can be checked with tests for equal variance)\n",
    "# independent groups: e.g., how boys and girls fare at an exam\n",
    "# dependent groups: e.g., how the same class fare at 2 different exams\n",
    "t_statistic, p_value = ttest_ind(group1, group2)"
   ]
  },
  {
   "cell_type": "code",
   "execution_count": null,
   "metadata": {},
   "outputs": [],
   "source": [
    "\n",
    "# p_value < 0.05 => alternative hypothesis:\n",
    "# they don't have the same mean at the 5% significance level\n",
    "print \"two-sample t-test\", p_value\n",
    "\n",
    "# two-sample wilcoxon test\n",
    "# a.k.a Mann Whitney U\n",
    "u, p_value = mannwhitneyu(group1, group2)\n",
    "print \"two-sample wilcoxon-test\", p_value\n",
    "\n",
    "# pre and post-stress\n",
    "intake = np.array([\n",
    "[5260, 3910],\n",
    "[5470, 4220],\n",
    "[5640, 3885],\n",
    "[6180, 5160],\n",
    "[6390, 5645],\n",
    "[6515, 4680],\n",
    "[6805, 5265],\n",
    "[7515, 5975],\n",
    "[7515, 6790],\n",
    "[8230, 6900],\n",
    "[8770, 7335],\n",
    "])\n",
    "\n",
    "pre = intake[:, 0]\n",
    "post = intake[:, 1]\n",
    "\n",
    "# paired t-test: doing two measurments on the same experimental unit\n",
    "# (before and after a treatment)\n",
    "t_statistic, p_value = ttest_1samp(post - pre, 0)\n",
    "\n",
    "# p < 0.05 => alternative hypothesis:\n",
    "# the difference in mean is not equal to 0\n",
    "print \"paired t-test\", p_value\n",
    "\n",
    "# alternative to paired t-test when data has an ordinary scale or when not\n",
    "# normally distributed\n",
    "z_statistic, p_value = wilcoxon(post - pre)\n",
    "\n",
    "print \"paired wilcoxon-test\", p_value"
   ]
  }
 ],
 "metadata": {
  "kernelspec": {
   "display_name": "Python 3",
   "language": "python",
   "name": "python3"
  },
  "language_info": {
   "codemirror_mode": {
    "name": "ipython",
    "version": 3
   },
   "file_extension": ".py",
   "mimetype": "text/x-python",
   "name": "python",
   "nbconvert_exporter": "python",
   "pygments_lexer": "ipython3",
   "version": "3.7.4"
  }
 },
 "nbformat": 4,
 "nbformat_minor": 4
}

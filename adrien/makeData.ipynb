{
 "cells": [
  {
   "cell_type": "code",
   "execution_count": 1,
   "metadata": {},
   "outputs": [],
   "source": [
    "import scipy.io as sio\n",
    "import numpy as np\n",
    "import pickle\n",
    "import mne\n",
    "# %matplotlib notebook\n",
    "%matplotlib inline\n",
    "import os\n",
    "from multiprocessing import Pool\n"
   ]
  },
  {
   "cell_type": "code",
   "execution_count": 4,
   "metadata": {},
   "outputs": [
    {
     "name": "stdout",
     "output_type": "stream",
     "text": [
      "probably exists\n"
     ]
    }
   ],
   "source": [
    "#Define Classes\n",
    "clas=[['4000.0', '40000.0'], ['5000.0', '50000.0']]\n",
    "folder='one'\n",
    "try:\n",
    "    os.mkdir(folder)\n",
    "except:\n",
    "    print(\"probably exists\")\n",
    "dataFolder='allData/'"
   ]
  },
  {
   "cell_type": "code",
   "execution_count": 5,
   "metadata": {},
   "outputs": [
    {
     "name": "stdout",
     "output_type": "stream",
     "text": [
      "['VP27_importPz_rerefLM_noEOGs_crop_cleanChans_rerefLM_modMarker.set', 'VP22_importPz_rerefLM_noEOGs_crop_cleanChans_rerefLM_modMarker.set', 'VP35_importPz_rerefLM_noEOGs_crop_cleanChans_rerefLM_modMarker.set', 'VP36_importPz_rerefLM_noEOGs_crop_cleanChans_rerefLM_modMarker.set', 'VP26_importPz_rerefLM_noEOGs_crop_cleanChans_rerefLM_modMarker.set', 'VP28_importPz_rerefLM_noEOGs_crop_cleanChans_rerefLM_modMarker.set', 'VP10_importPz_rerefLM_noEOGs_crop_cleanChans_rerefLM_modMarker.set', 'VP11_importPz_rerefLM_noEOGs_crop_cleanChans_rerefLM_modMarker.set', 'VP12_importPz_rerefLM_noEOGs_crop_cleanChans_rerefLM_modMarker.set', 'VP13_importPz_rerefLM_noEOGs_crop_cleanChans_rerefLM_modMarker.set', 'VP25_importPz_rerefLM_noEOGs_crop_cleanChans_rerefLM_modMarker.set', 'VP37_importPz_rerefLM_noEOGs_crop_cleanChans_rerefLM_modMarker.set', 'VP23_importPz_rerefLM_noEOGs_crop_cleanChans_rerefLM_modMarker.set', 'VP18_importPz_rerefLM_noEOGs_crop_cleanChans_rerefLM_modMarker.set', 'VP09_importPz_rerefLM_noEOGs_crop_cleanChans_rerefLM_modMarker.set', 'VP08_importPz_rerefLM_noEOGs_crop_cleanChans_rerefLM_modMarker.set', 'VP20_importPz_rerefLM_noEOGs_crop_cleanChans_rerefLM_modMarker.set', 'VP14_importPz_rerefLM_noEOGs_crop_cleanChans_rerefLM_modMarker.set', 'VP30_importPz_rerefLM_noEOGs_crop_cleanChans_rerefLM_modMarker.set', 'VP31_importPz_rerefLM_noEOGs_crop_cleanChans_rerefLM_modMarker.set', 'VP19_importPz_rerefLM_noEOGs_crop_cleanChans_rerefLM_modMarker.set', 'VP07_importPz_rerefLM_noEOGs_crop_cleanChans_rerefLM_modMarker.set', 'VP33_importPz_rerefLM_noEOGs_crop_cleanChans_rerefLM_modMarker.set', 'VP24_importPz_rerefLM_noEOGs_crop_cleanChans_rerefLM_modMarker.set', 'VP29_importPz_rerefLM_noEOGs_crop_cleanChans_rerefLM_modMarker.set', 'VP32_importPz_rerefLM_noEOGs_crop_cleanChans_rerefLM_modMarker.set']\n"
     ]
    }
   ],
   "source": [
    "files=[]\n",
    "for file in os.listdir(dataFolder):\n",
    "    if file.endswith(\".set\"):\n",
    "        files.append(file)\n",
    "print(files)"
   ]
  },
  {
   "cell_type": "code",
   "execution_count": 6,
   "metadata": {},
   "outputs": [],
   "source": [
    "offset=0.1 #Seconds before the event to ignore\n",
    "sampleLen=5 #Seconds\n"
   ]
  },
  {
   "cell_type": "code",
   "execution_count": 7,
   "metadata": {},
   "outputs": [
    {
     "data": {
      "text/plain": [
       "True"
      ]
     },
     "execution_count": 7,
     "metadata": {},
     "output_type": "execute_result"
    }
   ],
   "source": [
    "li=[[1, 2], [3, 44]]\n",
    "[3, 44] in li"
   ]
  },
  {
   "cell_type": "code",
   "execution_count": 8,
   "metadata": {},
   "outputs": [],
   "source": [
    "def intersection(lst1, lst2): \n",
    "    lst3 = [value for value in lst1 if value in lst2] \n",
    "    return lst3 \n",
    "  "
   ]
  },
  {
   "cell_type": "code",
   "execution_count": 11,
   "metadata": {},
   "outputs": [],
   "source": [
    "def getData(name):\n",
    "    \n",
    "    raw=mne.io.read_raw_eeglab(dataFolder+name)\n",
    "    sRate=raw.info['sfreq']\n",
    "\n",
    "    (events,\n",
    "     event_dict)=mne.events_from_annotations(raw)\n",
    "    importantEvents=[]\n",
    "    ke=list(event_dict.keys())\n",
    "    found=[False]*len(clas)\n",
    "    for i in range(len(clas)):\n",
    "\n",
    "        for k in range(len(clas[i])):\n",
    "            if clas[i][k] in ke:\n",
    "                found[i]=True\n",
    "        clas[i]=intersection(event_dict, clas[i])\n",
    "    for i in range(len(clas)):\n",
    "        marker=[]\n",
    "        for k in range(len(clas[i])):\n",
    "            for p in range(len(events)):\n",
    "                if events[p][2]==event_dict[clas[i][k]]:\n",
    "                    corrupted=False\n",
    "                    #Check to see if error marker present in sample\n",
    "                    end=events[p][0]-((sampleLen+offset)*sRate)\n",
    "    #                 star=events[p][0]-offset\n",
    "                    if end<0:\n",
    "                        end=0\n",
    "                    for j in range(p, -1, -1):\n",
    "                        if events[j][0]>=end:\n",
    "                            if events[j][2]==event_dict['-999.0']:\n",
    "                                corrupted=True\n",
    "                        else:\n",
    "                            break\n",
    "                    if not corrupted:    \n",
    "                        marker.append(events[p][0])\n",
    "        importantEvents.append(marker)\n",
    "    data=[]\n",
    "    for i in range(len(importantEvents)):\n",
    "        feature=[]\n",
    "        for k in range(len(importantEvents[i])):\n",
    "            star=int(importantEvents[i][k]-((sampleLen+offset)*sRate))\n",
    "            end=int(importantEvents[i][k]-(offset*sRate))\n",
    "            out, times=raw[0:62, star:end]\n",
    "            print(out.shape)\n",
    "    #         print(k)\n",
    "            feature.append(out.transpose())\n",
    "        data.append(np.array(feature))\n",
    "    data=np.array(data)\n",
    "    if found == [True]*len(found):\n",
    "        pickle.dump(data, open(folder+'/'+name, 'wb'))\n",
    "    else:\n",
    "        print('SKIPPING', name, clas)\n",
    "    return data"
   ]
  },
  {
   "cell_type": "code",
   "execution_count": 12,
   "metadata": {},
   "outputs": [
    {
     "name": "stdout",
     "output_type": "stream",
     "text": [
      "Reading allData/VP27_importPz_rerefLM_noEOGs_crop_cleanChans_rerefLM_modMarker.fdt\n",
      "Used Annotations descriptions: ['-999.0', '1.0', '1000.0', '101.0', '102.0', '103.0', '104.0', '105.0', '106.0', '107.0', '108.0', '109.0', '11.0', '12.0', '17.0', '2.0', '2000.0', '201.0', '202.0', '203.0', '204.0', '205.0', '206.0', '207.0', '208.0', '232.0', '233.0', '237.0', '238.0', '239.0', '243.0', '251.0', '252.0', '253.0', '255.0', '3.0', '3000.0', '4.0', '4000.0', '5.0', '6.0', '7.0', '9.0', '99.0']\n",
      "(62, 2560)\n",
      "(62, 2560)\n",
      "(62, 2560)\n",
      "(62, 2560)\n",
      "SKIPPING VP27_importPz_rerefLM_noEOGs_crop_cleanChans_rerefLM_modMarker.set [['4000.0'], []]\n"
     ]
    },
    {
     "name": "stderr",
     "output_type": "stream",
     "text": [
      "<ipython-input-11-bfafab4e5509>:3: RuntimeWarning: Limited 1 annotation(s) that were expanding outside the data range.\n",
      "  raw=mne.io.read_raw_eeglab(dataFolder+name)\n"
     ]
    },
    {
     "data": {
      "text/plain": [
       "array([array([[[-0.01323119, -0.00038069,  0.0117891 , ...,  0.00308059,\n",
       "          0.00064319,  0.00552224],\n",
       "        [-0.01323155, -0.00038208,  0.01178734, ...,  0.0030792 ,\n",
       "          0.00067451,  0.00552082],\n",
       "        [-0.01323087, -0.00038026,  0.01178806, ...,  0.00307857,\n",
       "          0.00070151,  0.00552066],\n",
       "        ...,\n",
       "        [-0.01323227, -0.00035814,  0.01180074, ...,  0.00309382,\n",
       "          0.00064404,  0.00551969],\n",
       "        [-0.01323102, -0.00035673,  0.01180265, ...,  0.00309388,\n",
       "          0.00065036,  0.00551963],\n",
       "        [-0.01323193, -0.00035673,  0.01180237, ...,  0.00309292,\n",
       "          0.00067189,  0.0055186 ]],\n",
       "\n",
       "       [[-0.01289751, -0.00039562,  0.01173292, ...,  0.00302849,\n",
       "          0.00066244,  0.00543643],\n",
       "        [-0.0128929 , -0.00039461,  0.01173543, ...,  0.00303101,\n",
       "          0.00069436,  0.00543969],\n",
       "        [-0.01289169, -0.00039575,  0.01173801, ...,  0.00303334,\n",
       "          0.0007224 ,  0.00544202],\n",
       "        ...,\n",
       "        [-0.01301987, -0.00041951,  0.01173943, ...,  0.00306273,\n",
       "          0.00069223,  0.00547104],\n",
       "        [-0.01301877, -0.00042017,  0.01174009, ...,  0.00306307,\n",
       "          0.0006677 ,  0.00547085],\n",
       "        [-0.01302227, -0.00042611,  0.01173799, ...,  0.00306217,\n",
       "          0.00065698,  0.00546922]],\n",
       "\n",
       "       [[-0.01286574, -0.00016973,  0.01168528, ...,  0.0030246 ,\n",
       "          0.00100789,  0.00486941],\n",
       "        [-0.01286701, -0.00016956,  0.01168438, ...,  0.00302368,\n",
       "          0.00100434,  0.00486999],\n",
       "        [-0.01286787, -0.00016798,  0.01168378, ...,  0.00302338,\n",
       "          0.00101579,  0.00487135],\n",
       "        ...,\n",
       "        [-0.01290104, -0.00014547,  0.01170654, ...,  0.00303399,\n",
       "          0.00107959,  0.00487462],\n",
       "        [-0.01290238, -0.00014797,  0.01170473, ...,  0.00303434,\n",
       "          0.00106212,  0.0048753 ],\n",
       "        [-0.01290554, -0.00015022,  0.01170198, ...,  0.00303518,\n",
       "          0.00103953,  0.0048773 ]],\n",
       "\n",
       "       [[-0.01158621,  0.0005233 ,  0.01169171, ...,  0.0034526 ,\n",
       "          0.00219551,  0.00434073],\n",
       "        [-0.01158823,  0.00052241,  0.01169113, ...,  0.0034519 ,\n",
       "          0.00216778,  0.00434209],\n",
       "        [-0.01159185,  0.00052144,  0.01168851, ...,  0.00345131,\n",
       "          0.00213768,  0.00434212],\n",
       "        ...,\n",
       "        [-0.01155062,  0.00053642,  0.01169074, ...,  0.00346401,\n",
       "          0.00218283,  0.0043641 ],\n",
       "        [-0.01155068,  0.00053467,  0.01169071, ...,  0.00346429,\n",
       "          0.00221045,  0.00436391],\n",
       "        [-0.01154971,  0.00053348,  0.01169118, ...,  0.00346432,\n",
       "          0.00223298,  0.00436357]]]),\n",
       "       array([], dtype=float64)], dtype=object)"
      ]
     },
     "execution_count": 12,
     "metadata": {},
     "output_type": "execute_result"
    }
   ],
   "source": [
    "getData(files[0])"
   ]
  },
  {
   "cell_type": "code",
   "execution_count": 46,
   "metadata": {
    "scrolled": true
   },
   "outputs": [
    {
     "name": "stdout",
     "output_type": "stream",
     "text": [
      "Reading allData/VP12_importPz_rerefLM_noEOGs_crop_cleanChans_rerefLM_modMarker.fdt\n",
      "Reading allData/VP25_importPz_rerefLM_noEOGs_crop_cleanChans_rerefLM_modMarker.fdt\n"
     ]
    },
    {
     "name": "stderr",
     "output_type": "stream",
     "text": [
      "<ipython-input-42-38e409cdaf5f>:3: RuntimeWarning: Limited 1 annotation(s) that were expanding outside the data range.\n",
      "  raw=mne.io.read_raw_eeglab('allData/'+name)\n"
     ]
    },
    {
     "name": "stdout",
     "output_type": "stream",
     "text": [
      "Reading allData/VP28_importPz_rerefLM_noEOGs_crop_cleanChans_rerefLM_modMarker.fdt\n",
      "Used Annotations descriptions: ['-999.0', '1.0', '1000.0', '101.0', '102.0', '103.0', '104.0', '105.0', '106.0', '107.0', '108.0', '109.0', '11.0', '111.0', '12.0', '168.0', '17.0', '177.0', '185.0', '2.0', '2000.0', '201.0', '202.0', '203.0', '204.0', '205.0', '206.0', '207.0', '208.0', '232.0', '233.0', '234.0', '238.0', '239.0', '243.0', '251.0', '252.0', '253.0', '255.0', '3.0', '4.0', '40000.0', '5.0', '50000.0', '6.0', '8.0', '9.0', '99.0']\n",
      "Reading allData/VP11_importPz_rerefLM_noEOGs_crop_cleanChans_rerefLM_modMarker.fdt\n",
      "Reading allData/VP36_importPz_rerefLM_noEOGs_crop_cleanChans_rerefLM_modMarker.fdt\n",
      "Reading allData/VP10_importPz_rerefLM_noEOGs_crop_cleanChans_rerefLM_modMarker.fdt\n",
      "Reading allData/VP27_importPz_rerefLM_noEOGs_crop_cleanChans_rerefLM_modMarker.fdt\n",
      "Reading allData/VP22_importPz_rerefLM_noEOGs_crop_cleanChans_rerefLM_modMarker.fdt\n",
      "Reading allData/VP35_importPz_rerefLM_noEOGs_crop_cleanChans_rerefLM_modMarker.fdt\n",
      "Reading allData/VP31_importPz_rerefLM_noEOGs_crop_cleanChans_rerefLM_modMarker.fdt\n",
      "Reading allData/VP20_importPz_rerefLM_noEOGs_crop_cleanChans_rerefLM_modMarker.fdt\n",
      "Reading allData/VP30_importPz_rerefLM_noEOGs_crop_cleanChans_rerefLM_modMarker.fdt\n",
      "Reading allData/VP18_importPz_rerefLM_noEOGs_crop_cleanChans_rerefLM_modMarker.fdt\n",
      "Reading allData/VP23_importPz_rerefLM_noEOGs_crop_cleanChans_rerefLM_modMarker.fdt\n",
      "Reading allData/VP09_importPz_rerefLM_noEOGs_crop_cleanChans_rerefLM_modMarker.fdt\n",
      "Reading allData/VP37_importPz_rerefLM_noEOGs_crop_cleanChans_rerefLM_modMarker.fdt\n",
      "Reading allData/VP14_importPz_rerefLM_noEOGs_crop_cleanChans_rerefLM_modMarker.fdt\n"
     ]
    },
    {
     "name": "stderr",
     "output_type": "stream",
     "text": [
      "<ipython-input-42-38e409cdaf5f>:3: RuntimeWarning: Limited 1 annotation(s) that were expanding outside the data range.\n",
      "  raw=mne.io.read_raw_eeglab('allData/'+name)\n"
     ]
    },
    {
     "name": "stdout",
     "output_type": "stream",
     "text": [
      "Reading allData/VP08_importPz_rerefLM_noEOGs_crop_cleanChans_rerefLM_modMarker.fdt\n",
      "Used Annotations descriptions: ['-999.0', '1.0', '1000.0', '101.0', '102.0', '103.0', '104.0', '105.0', '106.0', '107.0', '108.0', '109.0', '11.0', '110.0', '111.0', '12.0', '152.0', '153.0', '154.0', '155.0', '156.0', '157.0', '158.0', '159.0', '160.0', '161.0', '162.0', '164.0', '165.0', '166.0', '167.0', '168.0', '169.0', '17.0', '170.0', '171.0', '174.0', '175.0', '180.0', '181.0', '185.0', '2.0', '2000.0', '20000.0', '201.0', '202.0', '203.0', '204.0', '205.0', '206.0', '207.0', '208.0', '232.0', '233.0', '234.0', '237.0', '238.0', '239.0', '243.0', '251.0', '252.0', '253.0', '255.0', '3.0', '30000.0', '4.0', '4000.0', '40000.0', '5.0', '50000.0', '6.0', '9.0', '99.0']\n",
      "Reading allData/VP26_importPz_rerefLM_noEOGs_crop_cleanChans_rerefLM_modMarker.fdt\n",
      "Reading allData/VP13_importPz_rerefLM_noEOGs_crop_cleanChans_rerefLM_modMarker.fdt\n"
     ]
    },
    {
     "name": "stderr",
     "output_type": "stream",
     "text": [
      "<ipython-input-42-38e409cdaf5f>:3: RuntimeWarning: Limited 1 annotation(s) that were expanding outside the data range.\n",
      "  raw=mne.io.read_raw_eeglab('allData/'+name)\n",
      "<ipython-input-42-38e409cdaf5f>:3: RuntimeWarning: Limited 1 annotation(s) that were expanding outside the data range.\n",
      "  raw=mne.io.read_raw_eeglab('allData/'+name)\n"
     ]
    },
    {
     "name": "stdout",
     "output_type": "stream",
     "text": [
      "Used Annotations descriptions: ['-999.0', '1.0', '1000.0', '101.0', '102.0', '103.0', '104.0', '105.0', '106.0', '107.0', '108.0', '109.0', '11.0', '12.0', '17.0', '2.0', '2000.0', '201.0', '202.0', '203.0', '204.0', '205.0', '206.0', '207.0', '208.0', '232.0', '233.0', '237.0', '238.0', '239.0', '243.0', '251.0', '252.0', '253.0', '255.0', '3.0', '3000.0', '4.0', '4000.0', '5.0', '6.0', '7.0', '9.0', '99.0']\n",
      "Used Annotations descriptions: ['-999.0', '1.0', '1000.0', '101.0', '102.0', '103.0', '104.0', '105.0', '106.0', '107.0', '108.0', '109.0', '11.0', '12.0', '17.0', '2.0', '2000.0', '201.0', '202.0', '203.0', '204.0', '205.0', '206.0', '207.0', '208.0', '232.0', '233.0', '234.0', '238.0', '239.0', '243.0', '251.0', '252.0', '253.0', '255.0', '3.0', '3000.0', '4.0', '4000.0', '5.0', '5000.0', '6.0', '7.0', '8.0', '9.0', '99.0']\n",
      "SKIPPING VP27_importPz_rerefLM_noEOGs_crop_cleanChans_rerefLM_modMarker.set [['4000.0'], []]\n"
     ]
    },
    {
     "name": "stderr",
     "output_type": "stream",
     "text": [
      "<ipython-input-42-38e409cdaf5f>:3: RuntimeWarning: Limited 1 annotation(s) that were expanding outside the data range.\n",
      "  raw=mne.io.read_raw_eeglab('allData/'+name)\n"
     ]
    },
    {
     "name": "stdout",
     "output_type": "stream",
     "text": [
      "Used Annotations descriptions: ['-999.0', '1.0', '1000.0', '101.0', '102.0', '103.0', '104.0', '105.0', '106.0', '107.0', '108.0', '109.0', '11.0', '111.0', '12.0', '17.0', '170.0', '2.0', '2000.0', '201.0', '202.0', '203.0', '204.0', '205.0', '206.0', '207.0', '208.0', '232.0', '233.0', '234.0', '237.0', '238.0', '239.0', '243.0', '251.0', '252.0', '253.0', '255.0', '3.0', '3000.0', '30000.0', '4.0', '4000.0', '5.0', '5000.0', '6.0', '7.0', '9.0', '99.0']\n"
     ]
    },
    {
     "name": "stderr",
     "output_type": "stream",
     "text": [
      "<ipython-input-42-38e409cdaf5f>:3: RuntimeWarning: Limited 1 annotation(s) that were expanding outside the data range.\n",
      "  raw=mne.io.read_raw_eeglab('allData/'+name)\n"
     ]
    },
    {
     "name": "stdout",
     "output_type": "stream",
     "text": [
      "Reading allData/VP19_importPz_rerefLM_noEOGs_crop_cleanChans_rerefLM_modMarker.fdt\n"
     ]
    },
    {
     "name": "stderr",
     "output_type": "stream",
     "text": [
      "<ipython-input-42-38e409cdaf5f>:3: RuntimeWarning: Limited 1 annotation(s) that were expanding outside the data range.\n",
      "  raw=mne.io.read_raw_eeglab('allData/'+name)\n"
     ]
    },
    {
     "name": "stdout",
     "output_type": "stream",
     "text": [
      "Used Annotations descriptions: ['-999.0', '1.0', '1000.0', '10000.0', '101.0', '102.0', '103.0', '104.0', '105.0', '106.0', '107.0', '108.0', '109.0', '11.0', '12.0', '15.0', '152.0', '153.0', '154.0', '155.0', '156.0', '157.0', '158.0', '159.0', '160.0', '161.0', '162.0', '163.0', '164.0', '166.0', '168.0', '169.0', '17.0', '174.0', '175.0', '177.0', '178.0', '179.0', '181.0', '185.0', '189.0', '192.0', '2.0', '2000.0', '20000.0', '201.0', '202.0', '203.0', '204.0', '205.0', '206.0', '207.0', '208.0', '232.0', '233.0', '234.0', '237.0', '238.0', '239.0', '243.0', '250.0', '251.0', '252.0', '253.0', '255.0', '3.0', '3000.0', '30000.0', '4.0', '40000.0', '5.0', '5000.0', '50000.0', '6.0', '8.0', '9.0', '99.0']\n",
      "Used Annotations descriptions: ['-999.0', '1.0', '1000.0', '101.0', '102.0', '103.0', '104.0', '105.0', '106.0', '107.0', '108.0', '109.0', '11.0', '111.0', '12.0', '15.0', '168.0', '17.0', '2.0', '2000.0', '201.0', '202.0', '203.0', '204.0', '205.0', '206.0', '207.0', '208.0', '232.0', '233.0', '234.0', '237.0', '238.0', '239.0', '243.0', '251.0', '252.0', '253.0', '255.0', '3.0', '3000.0', '4.0', '4000.0', '40000.0', '5.0', '5000.0', '6.0', '8.0', '9.0', '99.0']\n"
     ]
    },
    {
     "name": "stderr",
     "output_type": "stream",
     "text": [
      "<ipython-input-42-38e409cdaf5f>:3: RuntimeWarning: Limited 1 annotation(s) that were expanding outside the data range.\n",
      "  raw=mne.io.read_raw_eeglab('allData/'+name)\n"
     ]
    },
    {
     "name": "stdout",
     "output_type": "stream",
     "text": [
      "Used Annotations descriptions: ['-999.0', '1.0', '1000.0', '101.0', '102.0', '103.0', '104.0', '105.0', '106.0', '107.0', '108.0', '109.0', '11.0', '110.0', '12.0', '153.0', '160.0', '163.0', '166.0', '17.0', '170.0', '2.0', '2000.0', '201.0', '202.0', '203.0', '204.0', '205.0', '206.0', '207.0', '208.0', '232.0', '233.0', '234.0', '237.0', '238.0', '239.0', '243.0', '251.0', '252.0', '253.0', '255.0', '3.0', '3000.0', '30000.0', '4.0', '4000.0', '40000.0', '5.0', '5000.0', '50000.0', '6.0', '7.0', '8.0', '99.0']\n"
     ]
    },
    {
     "name": "stderr",
     "output_type": "stream",
     "text": [
      "<ipython-input-42-38e409cdaf5f>:3: RuntimeWarning: Limited 1 annotation(s) that were expanding outside the data range.\n",
      "  raw=mne.io.read_raw_eeglab('allData/'+name)\n"
     ]
    },
    {
     "name": "stdout",
     "output_type": "stream",
     "text": [
      "Used Annotations descriptions: ['-999.0', '1.0', '1000.0', '101.0', '102.0', '103.0', '104.0', '105.0', '106.0', '107.0', '108.0', '109.0', '11.0', '12.0', '17.0', '2.0', '2000.0', '201.0', '202.0', '203.0', '204.0', '205.0', '206.0', '207.0', '208.0', '232.0', '233.0', '234.0', '238.0', '239.0', '243.0', '251.0', '252.0', '253.0', '255.0', '3.0', '3000.0', '4.0', '4000.0', '5.0', '5000.0', '6.0', '7.0', '9.0', '99.0']\n"
     ]
    },
    {
     "name": "stderr",
     "output_type": "stream",
     "text": [
      "<ipython-input-42-38e409cdaf5f>:3: RuntimeWarning: Limited 1 annotation(s) that were expanding outside the data range.\n",
      "  raw=mne.io.read_raw_eeglab('allData/'+name)\n",
      "<ipython-input-42-38e409cdaf5f>:3: RuntimeWarning: Limited 1 annotation(s) that were expanding outside the data range.\n",
      "  raw=mne.io.read_raw_eeglab('allData/'+name)\n"
     ]
    },
    {
     "name": "stdout",
     "output_type": "stream",
     "text": [
      "Used Annotations descriptions: ['-999.0', '1.0', '1000.0', '101.0', '102.0', '103.0', '104.0', '105.0', '106.0', '107.0', '108.0', '109.0', '11.0', '12.0', '152.0', '153.0', '155.0', '156.0', '158.0', '159.0', '162.0', '163.0', '168.0', '169.0', '17.0', '171.0', '172.0', '173.0', '177.0', '178.0', '179.0', '181.0', '182.0', '189.0', '2.0', '2000.0', '20000.0', '201.0', '202.0', '203.0', '204.0', '205.0', '206.0', '207.0', '208.0', '232.0', '233.0', '234.0', '237.0', '238.0', '239.0', '243.0', '251.0', '252.0', '253.0', '3.0', '3000.0', '30000.0', '4.0', '4000.0', '40000.0', '5.0', '5000.0', '50000.0', '6.0', '7.0', '9.0', '99.0']\n",
      "Used Annotations descriptions: ['-999.0', '1.0', '10000.0', '101.0', '102.0', '103.0', '104.0', '105.0', '106.0', '107.0', '108.0', '109.0', '11.0', '111.0', '12.0', '152.0', '153.0', '154.0', '155.0', '156.0', '159.0', '160.0', '161.0', '162.0', '163.0', '164.0', '165.0', '166.0', '167.0', '168.0', '169.0', '17.0', '170.0', '171.0', '172.0', '173.0', '174.0', '177.0', '179.0', '182.0', '2.0', '2000.0', '20000.0', '201.0', '202.0', '203.0', '204.0', '205.0', '206.0', '207.0', '208.0', '232.0', '233.0', '234.0', '237.0', '238.0', '239.0', '243.0', '251.0', '252.0', '253.0', '255.0', '3.0', '3000.0', '30000.0', '4.0', '4000.0', '40000.0', '5.0', '5000.0', '50000.0', '6.0', '9.0', '99.0']\n"
     ]
    },
    {
     "name": "stderr",
     "output_type": "stream",
     "text": [
      "<ipython-input-42-38e409cdaf5f>:3: RuntimeWarning: Limited 1 annotation(s) that were expanding outside the data range.\n",
      "  raw=mne.io.read_raw_eeglab('allData/'+name)\n"
     ]
    },
    {
     "name": "stdout",
     "output_type": "stream",
     "text": [
      "Used Annotations descriptions: ['-999.0', '1.0', '1000.0', '101.0', '102.0', '103.0', '104.0', '105.0', '106.0', '107.0', '108.0', '109.0', '11.0', '111.0', '12.0', '15.0', '152.0', '160.0', '161.0', '163.0', '165.0', '166.0', '167.0', '168.0', '169.0', '17.0', '170.0', '171.0', '173.0', '174.0', '175.0', '176.0', '177.0', '178.0', '179.0', '184.0', '186.0', '191.0', '2.0', '2000.0', '20000.0', '201.0', '202.0', '203.0', '204.0', '205.0', '206.0', '207.0', '208.0', '232.0', '233.0', '234.0', '237.0', '238.0', '239.0', '243.0', '251.0', '252.0', '253.0', '3.0', '30000.0', '4.0', '40000.0', '5.0', '50000.0', '6.0', '7.0', '99.0']\n"
     ]
    },
    {
     "name": "stderr",
     "output_type": "stream",
     "text": [
      "<ipython-input-42-38e409cdaf5f>:3: RuntimeWarning: Limited 1 annotation(s) that were expanding outside the data range.\n",
      "  raw=mne.io.read_raw_eeglab('allData/'+name)\n"
     ]
    },
    {
     "name": "stdout",
     "output_type": "stream",
     "text": [
      "Used Annotations descriptions: ['-999.0', '1.0', '1000.0', '101.0', '102.0', '103.0', '104.0', '105.0', '106.0', '107.0', '108.0', '109.0', '11.0', '110.0', '111.0', '12.0', '15.0', '152.0', '154.0', '155.0', '156.0', '158.0', '159.0', '160.0', '161.0', '162.0', '164.0', '166.0', '167.0', '169.0', '17.0', '170.0', '172.0', '173.0', '174.0', '176.0', '177.0', '178.0', '181.0', '185.0', '2.0', '20000.0', '201.0', '202.0', '203.0', '204.0', '205.0', '206.0', '207.0', '208.0', '232.0', '233.0', '234.0', '237.0', '238.0', '239.0', '243.0', '251.0', '252.0', '253.0', '255.0', '3.0', '3000.0', '30000.0', '4.0', '4000.0', '40000.0', '5.0', '5000.0', '50000.0', '6.0', '7.0', '8.0', '9.0', '99.0']\n",
      "Reading allData/VP24_importPz_rerefLM_noEOGs_crop_cleanChans_rerefLM_modMarker.fdt\n",
      "Reading allData/VP07_importPz_rerefLM_noEOGs_crop_cleanChans_rerefLM_modMarker.fdt\n"
     ]
    },
    {
     "name": "stderr",
     "output_type": "stream",
     "text": [
      "<ipython-input-42-38e409cdaf5f>:3: RuntimeWarning: Limited 1 annotation(s) that were expanding outside the data range.\n",
      "  raw=mne.io.read_raw_eeglab('allData/'+name)\n",
      "<ipython-input-42-38e409cdaf5f>:3: RuntimeWarning: Limited 1 annotation(s) that were expanding outside the data range.\n",
      "  raw=mne.io.read_raw_eeglab('allData/'+name)\n"
     ]
    },
    {
     "name": "stdout",
     "output_type": "stream",
     "text": [
      "Used Annotations descriptions: ['-999.0', '1.0', '1000.0', '101.0', '102.0', '103.0', '104.0', '105.0', '106.0', '107.0', '108.0', '109.0', '11.0', '110.0', '111.0', '12.0', '154.0', '155.0', '157.0', '158.0', '160.0', '161.0', '162.0', '163.0', '165.0', '167.0', '169.0', '17.0', '170.0', '171.0', '172.0', '173.0', '174.0', '175.0', '177.0', '179.0', '181.0', '188.0', '192.0', '2.0', '2000.0', '201.0', '202.0', '203.0', '204.0', '205.0', '206.0', '207.0', '208.0', '232.0', '233.0', '234.0', '238.0', '239.0', '243.0', '251.0', '252.0', '253.0', '3.0', '3000.0', '30000.0', '4.0', '40000.0', '5.0', '5000.0', '50000.0', '6.0', '7.0', '9.0', '99.0']\n"
     ]
    },
    {
     "name": "stderr",
     "output_type": "stream",
     "text": [
      "<ipython-input-42-38e409cdaf5f>:3: RuntimeWarning: Limited 1 annotation(s) that were expanding outside the data range.\n",
      "  raw=mne.io.read_raw_eeglab('allData/'+name)\n"
     ]
    },
    {
     "name": "stdout",
     "output_type": "stream",
     "text": [
      "Used Annotations descriptions: ['-999.0', '1.0', '101.0', '102.0', '103.0', '104.0', '105.0', '106.0', '107.0', '108.0', '109.0', '11.0', '111.0', '12.0', '15.0', '152.0', '153.0', '154.0', '155.0', '156.0', '157.0', '158.0', '159.0', '160.0', '161.0', '162.0', '163.0', '164.0', '165.0', '166.0', '167.0', '169.0', '17.0', '170.0', '171.0', '173.0', '2.0', '2000.0', '20000.0', '201.0', '202.0', '203.0', '204.0', '205.0', '206.0', '207.0', '208.0', '232.0', '233.0', '234.0', '237.0', '238.0', '239.0', '243.0', '251.0', '252.0', '253.0', '3.0', '30000.0', '4.0', '40000.0', '5.0', '50000.0', '9.0', '99.0']\n",
      "Used Annotations descriptions: ['-999.0', '1.0', '1000.0', '101.0', '102.0', '103.0', '104.0', '105.0', '106.0', '107.0', '108.0', '109.0', '11.0', '110.0', '12.0', '160.0', '161.0', '163.0', '164.0', '165.0', '167.0', '168.0', '169.0', '17.0', '170.0', '172.0', '174.0', '175.0', '176.0', '177.0', '178.0', '179.0', '183.0', '187.0', '189.0', '190.0', '2.0', '2000.0', '20000.0', '201.0', '202.0', '203.0', '204.0', '205.0', '206.0', '207.0', '208.0', '232.0', '233.0', '234.0', '237.0', '238.0', '239.0', '243.0', '251.0', '252.0', '253.0', '255.0', '3.0', '3000.0', '30000.0', '4.0', '4000.0', '40000.0', '5.0', '5000.0', '50000.0', '6.0', '7.0', '9.0', '99.0']\n"
     ]
    },
    {
     "name": "stderr",
     "output_type": "stream",
     "text": [
      "<ipython-input-42-38e409cdaf5f>:3: RuntimeWarning: Limited 1 annotation(s) that were expanding outside the data range.\n",
      "  raw=mne.io.read_raw_eeglab('allData/'+name)\n"
     ]
    },
    {
     "name": "stdout",
     "output_type": "stream",
     "text": [
      "Used Annotations descriptions: ['-999.0', '1.0', '1000.0', '101.0', '102.0', '103.0', '104.0', '105.0', '106.0', '107.0', '108.0', '109.0', '11.0', '12.0', '15.0', '155.0', '157.0', '158.0', '159.0', '160.0', '162.0', '163.0', '164.0', '165.0', '166.0', '167.0', '168.0', '169.0', '17.0', '170.0', '171.0', '172.0', '173.0', '174.0', '175.0', '176.0', '177.0', '178.0', '179.0', '183.0', '2.0', '2000.0', '201.0', '202.0', '203.0', '204.0', '205.0', '206.0', '207.0', '208.0', '232.0', '233.0', '234.0', '238.0', '239.0', '251.0', '252.0', '253.0', '255.0', '3.0', '3000.0', '30000.0', '4.0', '4000.0', '40000.0', '5.0', '50000.0', '6.0', '99.0']\n"
     ]
    },
    {
     "name": "stderr",
     "output_type": "stream",
     "text": [
      "<ipython-input-42-38e409cdaf5f>:3: RuntimeWarning: Limited 1 annotation(s) that were expanding outside the data range.\n",
      "  raw=mne.io.read_raw_eeglab('allData/'+name)\n"
     ]
    },
    {
     "name": "stdout",
     "output_type": "stream",
     "text": [
      "Used Annotations descriptions: ['-999.0', '1.0', '1000.0', '10000.0', '101.0', '102.0', '103.0', '104.0', '105.0', '106.0', '107.0', '108.0', '109.0', '11.0', '111.0', '12.0', '152.0', '153.0', '154.0', '155.0', '156.0', '157.0', '158.0', '159.0', '160.0', '161.0', '162.0', '163.0', '164.0', '165.0', '166.0', '167.0', '17.0', '171.0', '173.0', '181.0', '191.0', '192.0', '2.0', '20000.0', '201.0', '202.0', '203.0', '204.0', '205.0', '206.0', '207.0', '208.0', '232.0', '233.0', '234.0', '238.0', '239.0', '251.0', '252.0', '253.0', '255.0', '3.0', '30000.0', '4.0', '40000.0', '5.0', '50000.0', '6.0', '7.0', '9.0', '99.0']\n"
     ]
    },
    {
     "name": "stderr",
     "output_type": "stream",
     "text": [
      "<ipython-input-42-38e409cdaf5f>:3: RuntimeWarning: Limited 1 annotation(s) that were expanding outside the data range.\n",
      "  raw=mne.io.read_raw_eeglab('allData/'+name)\n"
     ]
    },
    {
     "name": "stdout",
     "output_type": "stream",
     "text": [
      "Used Annotations descriptions: ['-999.0', '1.0', '1000.0', '101.0', '102.0', '103.0', '104.0', '105.0', '106.0', '107.0', '108.0', '109.0', '11.0', '111.0', '12.0', '167.0', '169.0', '17.0', '170.0', '171.0', '172.0', '175.0', '176.0', '177.0', '179.0', '182.0', '191.0', '2.0', '2000.0', '201.0', '202.0', '203.0', '204.0', '205.0', '206.0', '207.0', '208.0', '232.0', '233.0', '234.0', '237.0', '238.0', '239.0', '251.0', '252.0', '253.0', '255.0', '3.0', '3000.0', '30000.0', '4.0', '4000.0', '40000.0', '5.0', '5000.0', '50000.0', '6.0', '9.0', '99.0']\n",
      "Reading allData/VP33_importPz_rerefLM_noEOGs_crop_cleanChans_rerefLM_modMarker.fdt\n"
     ]
    },
    {
     "name": "stderr",
     "output_type": "stream",
     "text": [
      "<ipython-input-42-38e409cdaf5f>:3: RuntimeWarning: Limited 1 annotation(s) that were expanding outside the data range.\n",
      "  raw=mne.io.read_raw_eeglab('allData/'+name)\n"
     ]
    },
    {
     "name": "stdout",
     "output_type": "stream",
     "text": [
      "Reading allData/VP29_importPz_rerefLM_noEOGs_crop_cleanChans_rerefLM_modMarker.fdt\n",
      "Reading allData/VP32_importPz_rerefLM_noEOGs_crop_cleanChans_rerefLM_modMarker.fdt\n"
     ]
    },
    {
     "name": "stderr",
     "output_type": "stream",
     "text": [
      "<ipython-input-42-38e409cdaf5f>:3: RuntimeWarning: Limited 1 annotation(s) that were expanding outside the data range.\n",
      "  raw=mne.io.read_raw_eeglab('allData/'+name)\n"
     ]
    },
    {
     "name": "stdout",
     "output_type": "stream",
     "text": [
      "Used Annotations descriptions: ['-999.0', '1.0', '1000.0', '10000.0', '101.0', '102.0', '103.0', '104.0', '105.0', '106.0', '107.0', '108.0', '109.0', '11.0', '110.0', '111.0', '12.0', '15.0', '152.0', '153.0', '154.0', '155.0', '156.0', '157.0', '158.0', '159.0', '160.0', '161.0', '162.0', '163.0', '164.0', '165.0', '166.0', '167.0', '168.0', '169.0', '17.0', '170.0', '171.0', '172.0', '177.0', '178.0', '183.0', '2.0', '20000.0', '201.0', '202.0', '203.0', '204.0', '205.0', '206.0', '207.0', '208.0', '232.0', '233.0', '234.0', '237.0', '238.0', '239.0', '243.0', '251.0', '252.0', '253.0', '255.0', '3.0', '3000.0', '30000.0', '4.0', '40000.0', '5.0', '5000.0', '50000.0', '6.0', '7.0', '8.0', '9.0', '99.0']\n",
      "Used Annotations descriptions: ['-999.0', '101.0', '102.0', '103.0', '104.0', '105.0', '106.0', '107.0', '108.0', '109.0', '11.0', '111.0', '12.0', '144.0', '15.0', '152.0', '153.0', '154.0', '155.0', '156.0', '157.0', '158.0', '159.0', '160.0', '161.0', '162.0', '163.0', '164.0', '165.0', '166.0', '167.0', '169.0', '17.0', '170.0', '172.0', '173.0', '174.0', '176.0', '177.0', '178.0', '179.0', '182.0', '183.0', '184.0', '186.0', '187.0', '189.0', '2.0', '2000.0', '20000.0', '201.0', '202.0', '203.0', '204.0', '205.0', '206.0', '207.0', '208.0', '232.0', '233.0', '234.0', '237.0', '238.0', '239.0', '243.0', '251.0', '252.0', '253.0', '255.0', '3.0', '3000.0', '30000.0', '4.0', '4000.0', '40000.0', '5.0', '5000.0', '50000.0', '6.0', '7.0', '9.0', '99.0']\n"
     ]
    },
    {
     "name": "stderr",
     "output_type": "stream",
     "text": [
      "<ipython-input-42-38e409cdaf5f>:3: RuntimeWarning: Limited 1 annotation(s) that were expanding outside the data range.\n",
      "  raw=mne.io.read_raw_eeglab('allData/'+name)\n"
     ]
    },
    {
     "name": "stdout",
     "output_type": "stream",
     "text": [
      "Used Annotations descriptions: ['-999.0', '1.0', '1000.0', '101.0', '102.0', '103.0', '104.0', '105.0', '106.0', '107.0', '108.0', '109.0', '11.0', '110.0', '111.0', '12.0', '15.0', '153.0', '154.0', '155.0', '156.0', '157.0', '158.0', '159.0', '160.0', '161.0', '162.0', '163.0', '164.0', '165.0', '167.0', '168.0', '169.0', '17.0', '172.0', '173.0', '174.0', '175.0', '176.0', '177.0', '179.0', '180.0', '181.0', '184.0', '185.0', '186.0', '190.0', '192.0', '2.0', '2000.0', '20000.0', '201.0', '202.0', '203.0', '204.0', '205.0', '206.0', '207.0', '208.0', '232.0', '233.0', '234.0', '238.0', '239.0', '243.0', '251.0', '252.0', '253.0', '255.0', '3.0', '3000.0', '30000.0', '4.0', '4000.0', '40000.0', '5.0', '5000.0', '50000.0', '9.0', '99.0']\n"
     ]
    },
    {
     "name": "stderr",
     "output_type": "stream",
     "text": [
      "<ipython-input-42-38e409cdaf5f>:3: RuntimeWarning: Limited 1 annotation(s) that were expanding outside the data range.\n",
      "  raw=mne.io.read_raw_eeglab('allData/'+name)\n"
     ]
    },
    {
     "name": "stdout",
     "output_type": "stream",
     "text": [
      "Used Annotations descriptions: ['-999.0', '1.0', '1000.0', '101.0', '102.0', '103.0', '104.0', '105.0', '106.0', '107.0', '108.0', '109.0', '11.0', '12.0', '161.0', '166.0', '167.0', '169.0', '17.0', '176.0', '180.0', '190.0', '2.0', '2000.0', '20000.0', '201.0', '202.0', '203.0', '204.0', '205.0', '206.0', '207.0', '208.0', '232.0', '233.0', '234.0', '238.0', '239.0', '251.0', '252.0', '253.0', '255.0', '3.0', '3000.0', '30000.0', '4.0', '4000.0', '40000.0', '5.0', '5000.0', '6.0', '7.0', '9.0', '99.0']\n",
      "SKIPPING VP07_importPz_rerefLM_noEOGs_crop_cleanChans_rerefLM_modMarker.set [['4000.0', '40000.0'], []]\n"
     ]
    },
    {
     "name": "stderr",
     "output_type": "stream",
     "text": [
      "<ipython-input-42-38e409cdaf5f>:3: RuntimeWarning: Limited 1 annotation(s) that were expanding outside the data range.\n",
      "  raw=mne.io.read_raw_eeglab('allData/'+name)\n"
     ]
    },
    {
     "name": "stdout",
     "output_type": "stream",
     "text": [
      "Used Annotations descriptions: ['-999.0', '101.0', '102.0', '103.0', '104.0', '105.0', '106.0', '107.0', '108.0', '109.0', '11.0', '110.0', '111.0', '12.0', '154.0', '155.0', '159.0', '161.0', '162.0', '163.0', '164.0', '165.0', '166.0', '167.0', '168.0', '169.0', '17.0', '170.0', '171.0', '172.0', '173.0', '174.0', '175.0', '176.0', '177.0', '178.0', '180.0', '181.0', '185.0', '187.0', '188.0', '2.0', '2000.0', '20000.0', '201.0', '202.0', '203.0', '204.0', '205.0', '206.0', '207.0', '208.0', '232.0', '233.0', '234.0', '237.0', '238.0', '239.0', '243.0', '251.0', '252.0', '253.0', '3.0', '30000.0', '4.0', '40000.0', '5.0', '50000.0', '7.0', '99.0']\n",
      "SKIPPING VP33_importPz_rerefLM_noEOGs_crop_cleanChans_rerefLM_modMarker.set [[], []]\n"
     ]
    },
    {
     "name": "stderr",
     "output_type": "stream",
     "text": [
      "<ipython-input-42-38e409cdaf5f>:3: RuntimeWarning: Limited 1 annotation(s) that were expanding outside the data range.\n",
      "  raw=mne.io.read_raw_eeglab('allData/'+name)\n"
     ]
    },
    {
     "name": "stdout",
     "output_type": "stream",
     "text": [
      "Used Annotations descriptions: ['-999.0', '1.0', '1000.0', '10000.0', '101.0', '102.0', '103.0', '104.0', '105.0', '106.0', '107.0', '108.0', '109.0', '11.0', '110.0', '111.0', '12.0', '153.0', '154.0', '155.0', '156.0', '157.0', '158.0', '159.0', '160.0', '161.0', '162.0', '163.0', '164.0', '165.0', '166.0', '167.0', '169.0', '17.0', '171.0', '172.0', '174.0', '176.0', '178.0', '179.0', '192.0', '2.0', '20000.0', '201.0', '202.0', '203.0', '204.0', '205.0', '206.0', '207.0', '208.0', '232.0', '233.0', '234.0', '237.0', '238.0', '239.0', '243.0', '251.0', '252.0', '253.0', '3.0', '30000.0', '4.0', '4000.0', '40000.0', '5.0', '50000.0', '7.0', '9.0', '99.0']\n"
     ]
    },
    {
     "name": "stderr",
     "output_type": "stream",
     "text": [
      "<ipython-input-42-38e409cdaf5f>:3: RuntimeWarning: Limited 1 annotation(s) that were expanding outside the data range.\n",
      "  raw=mne.io.read_raw_eeglab('allData/'+name)\n"
     ]
    },
    {
     "name": "stdout",
     "output_type": "stream",
     "text": [
      "Used Annotations descriptions: ['-999.0', '1.0', '1000.0', '10000.0', '101.0', '102.0', '103.0', '104.0', '105.0', '106.0', '107.0', '108.0', '109.0', '11.0', '111.0', '12.0', '152.0', '154.0', '155.0', '156.0', '157.0', '158.0', '159.0', '160.0', '161.0', '162.0', '163.0', '164.0', '165.0', '166.0', '167.0', '168.0', '169.0', '17.0', '170.0', '171.0', '172.0', '173.0', '174.0', '175.0', '176.0', '177.0', '179.0', '181.0', '183.0', '187.0', '2.0', '2000.0', '20000.0', '201.0', '202.0', '203.0', '204.0', '205.0', '206.0', '207.0', '208.0', '232.0', '233.0', '234.0', '237.0', '238.0', '239.0', '243.0', '251.0', '252.0', '253.0', '255.0', '3.0', '3000.0', '30000.0', '4.0', '40000.0', '5.0', '50000.0', '6.0', '7.0', '8.0', '9.0', '99.0']\n",
      "SKIPPING VP29_importPz_rerefLM_noEOGs_crop_cleanChans_rerefLM_modMarker.set [[], []]\n"
     ]
    }
   ],
   "source": [
    "p = Pool(10)\n",
    "out=p.map(getData, files)\n"
   ]
  },
  {
   "cell_type": "code",
   "execution_count": 64,
   "metadata": {},
   "outputs": [],
   "source": [
    "master=[]\n",
    "classes=len(clas)\n",
    "for i in range(classes):\n",
    "    chunk=[]\n",
    "    for k in range(len(out)):\n",
    "        for p in range(len(out[k][i])):\n",
    "            chunk.append(out[k][i][p])\n",
    "    master.append(chunk)\n",
    "pickle.dump(master, open(folder+'/'+'generic', 'wb'))"
   ]
  },
  {
   "cell_type": "code",
   "execution_count": null,
   "metadata": {},
   "outputs": [],
   "source": []
  }
 ],
 "metadata": {
  "kernelspec": {
   "display_name": "Python 3",
   "language": "python",
   "name": "python3"
  },
  "language_info": {
   "codemirror_mode": {
    "name": "ipython",
    "version": 3
   },
   "file_extension": ".py",
   "mimetype": "text/x-python",
   "name": "python",
   "nbconvert_exporter": "python",
   "pygments_lexer": "ipython3",
   "version": "3.7.6"
  }
 },
 "nbformat": 4,
 "nbformat_minor": 4
}

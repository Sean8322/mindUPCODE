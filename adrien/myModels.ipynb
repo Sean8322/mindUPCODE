{
 "cells": [
  {
   "cell_type": "code",
   "execution_count": 1,
   "metadata": {},
   "outputs": [
    {
     "name": "stderr",
     "output_type": "stream",
     "text": [
      "Using TensorFlow backend.\n"
     ]
    },
    {
     "name": "stdout",
     "output_type": "stream",
     "text": [
      "[name: \"/device:CPU:0\"\n",
      "device_type: \"CPU\"\n",
      "memory_limit: 268435456\n",
      "locality {\n",
      "}\n",
      "incarnation: 681907474981199952\n",
      ", name: \"/device:XLA_CPU:0\"\n",
      "device_type: \"XLA_CPU\"\n",
      "memory_limit: 17179869184\n",
      "locality {\n",
      "}\n",
      "incarnation: 12413511469990955905\n",
      "physical_device_desc: \"device: XLA_CPU device\"\n",
      ", name: \"/device:XLA_GPU:0\"\n",
      "device_type: \"XLA_GPU\"\n",
      "memory_limit: 17179869184\n",
      "locality {\n",
      "}\n",
      "incarnation: 955770857057149981\n",
      "physical_device_desc: \"device: XLA_GPU device\"\n",
      ", name: \"/device:XLA_GPU:1\"\n",
      "device_type: \"XLA_GPU\"\n",
      "memory_limit: 17179869184\n",
      "locality {\n",
      "}\n",
      "incarnation: 16397627529146705253\n",
      "physical_device_desc: \"device: XLA_GPU device\"\n",
      ", name: \"/device:GPU:0\"\n",
      "device_type: \"GPU\"\n",
      "memory_limit: 6477135872\n",
      "locality {\n",
      "  bus_id: 1\n",
      "  links {\n",
      "  }\n",
      "}\n",
      "incarnation: 11136597801030725846\n",
      "physical_device_desc: \"device: 0, name: TITAN RTX, pci bus id: 0000:65:00.0, compute capability: 7.5\"\n",
      ", name: \"/device:GPU:1\"\n",
      "device_type: \"GPU\"\n",
      "memory_limit: 7551293850\n",
      "locality {\n",
      "  bus_id: 1\n",
      "  links {\n",
      "  }\n",
      "}\n",
      "incarnation: 2670645737462632070\n",
      "physical_device_desc: \"device: 1, name: Graphics Device, pci bus id: 0000:17:00.0, compute capability: 7.5\"\n",
      "]\n"
     ]
    }
   ],
   "source": [
    "\n",
    "import os\n",
    "\n",
    "from math import sqrt\n",
    "from numpy import concatenate\n",
    "from matplotlib import pyplot\n",
    "from pandas import read_csv\n",
    "from pandas import DataFrame\n",
    "from pandas import concat\n",
    "from sklearn.preprocessing import MinMaxScaler\n",
    "from sklearn.preprocessing import LabelEncoder\n",
    "from sklearn.metrics import mean_squared_error\n",
    "from keras.models import Sequential\n",
    "from keras.layers import Dense\n",
    "from keras.layers import LSTM\n",
    "from keras.layers import Conv2D\n",
    "from keras.layers import Conv1D\n",
    "from keras.layers import Masking\n",
    "from sklearn.preprocessing import normalize\n",
    "from keras.models import load_model\n",
    "from keras.utils import multi_gpu_model\n",
    "import math\n",
    "\n",
    "import keras\n",
    "import pickle\n",
    "import numpy as np\n",
    "from tensorflow.python.client import device_lib\n",
    "from keras import backend as K\n",
    "from keras.utils import to_categorical\n",
    "\n",
    "print(device_lib.list_local_devices()) # list of DeviceAttributes\n",
    "\n",
    "# %gui qt\n",
    "import numpy as np\n",
    "import mne\n",
    "import pickle\n",
    "import sys\n",
    "import os\n",
    "import matplotlib\n",
    "\n",
    "import matplotlib.pyplot as plt\n"
   ]
  },
  {
   "cell_type": "code",
   "execution_count": 3,
   "metadata": {},
   "outputs": [],
   "source": [
    "def dualLSTM(clas, sam, chans):\n",
    "    model = Sequential()\n",
    "#     model.add(Masking(mask_value=-9999, input_shape=(1250, test_X.shape[-1])))\n",
    "#     model.add(keras.layers.BatchNormalization(axis=-1, momentum=0.99))\n",
    "    \n",
    "    model.add(LSTM(40, return_sequences=True, input_shape=(sam, chans)))\n",
    "#     model.add(keras.layers.Dropout(0.1))\n",
    "    model.add(LSTM(25))\n",
    "    model.add(keras.layers.Dropout(0.3))\n",
    "#     model.add(Dense(100, activation='relu'))\n",
    "    model.add(Dense(20, activation='sigmoid'))\n",
    "    model.add(keras.layers.Dropout(0.3))\n",
    "    model.add(Dense(10, activation='relu'))\n",
    "    model.add(Dense(clas, activation='softmax'))\n",
    "    return model"
   ]
  },
  {
   "cell_type": "code",
   "execution_count": 4,
   "metadata": {},
   "outputs": [],
   "source": [
    "def singleLSTM(clas, sam, chans):\n",
    "    model = Sequential()\n",
    "#     model.add(Masking(mask_value=-9999, input_shape=(1250, test_X.shape[-1])))\n",
    "#     model.add(keras.layers.BatchNormalization(axis=-1, momentum=0.99))\n",
    "    \n",
    "    model.add(LSTM(40, return_sequences=True, input_shape=(sam, chans)))\n",
    "#     model.add(keras.layers.Dropout(0.1))\n",
    "#     model.add(LSTM(25))\n",
    "    model.add(keras.layers.Dropout(0.3))\n",
    "#     model.add(Dense(100, activation='relu'))\n",
    "    model.add(Dense(20, activation='sigmoid'))\n",
    "    model.add(keras.layers.Dropout(0.3))\n",
    "    model.add(Dense(10, activation='relu'))\n",
    "    model.add(Dense(clas, activation='softmax'))\n",
    "    return model"
   ]
  },
  {
   "cell_type": "code",
   "execution_count": null,
   "metadata": {},
   "outputs": [],
   "source": []
  }
 ],
 "metadata": {
  "kernelspec": {
   "display_name": "Python 3",
   "language": "python",
   "name": "python3"
  },
  "language_info": {
   "codemirror_mode": {
    "name": "ipython",
    "version": 3
   },
   "file_extension": ".py",
   "mimetype": "text/x-python",
   "name": "python",
   "nbconvert_exporter": "python",
   "pygments_lexer": "ipython3",
   "version": "3.7.6"
  }
 },
 "nbformat": 4,
 "nbformat_minor": 4
}

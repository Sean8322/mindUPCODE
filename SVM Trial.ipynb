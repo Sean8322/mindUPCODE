{
 "cells": [
  {
   "cell_type": "code",
   "execution_count": 19,
   "metadata": {},
   "outputs": [],
   "source": [
    "from sklearn.metrics import roc_curve, auc\n",
    "import matplotlib.pyplot as plt\n",
    "from sklearn import svm\n",
    "import numpy as np\n",
    "import csv\n",
    "import pickle\n",
    "import os\n",
    "\n",
    "opp= {\n",
    "    'paced':0,\n",
    "    'slowBreath':1,\n",
    "    'stressor':2,\n",
    "    'baseline':3,\n",
    "    'sync':4,\n",
    "    'survey':5,\n",
    "    'rest':6\n",
    "}"
   ]
  },
  {
   "cell_type": "code",
   "execution_count": 7,
   "metadata": {},
   "outputs": [],
   "source": [
    "baseFolder='./pickled-filt/'\n",
    "files=[f for f in os.listdir(baseFolder) if not f.startswith('.')]"
   ]
  },
  {
   "cell_type": "code",
   "execution_count": 8,
   "metadata": {},
   "outputs": [],
   "source": [
    "data=pickle.load(open(baseFolder+files[0], 'rb'))"
   ]
  },
  {
   "cell_type": "code",
   "execution_count": 9,
   "metadata": {},
   "outputs": [
    {
     "data": {
      "text/plain": [
       "array([8, -4.483524662646232e-12, -6.181721801112872e-13,\n",
       "       -3.801403636316536e-13, -5.853095785823825e-13,\n",
       "       -1.326938559031987e-12, -2.6965096822095802e-12,\n",
       "       3.6859404417555197e-13, -3.15547588058962e-12,\n",
       "       -1.3606893389805919e-12, -2.1316282072803006e-14,\n",
       "       -3.965716643961059e-13, -2.842170943040401e-14,\n",
       "       1.574740338128322e-12, -4.000355602329364e-12,\n",
       "       8.93507490218326e-13, 2.8990143619012088e-12, 504,\n",
       "       datetime.datetime(1900, 1, 1, 10, 29, 37, 406000),\n",
       "       {'bpm': -1, 'ibi': -1, 'sdnn': -1, 'sdsd': -1, 'rmssd': -1, 'pnn20': -1, 'pnn50': -1, 'hr_mad': -1, 'sd1': -1, 'sd2': -1, 's': -1, 'sd1/sd2': -1, 'breathingrate': -1, 'lf': -1, 'hf': -1, 'lf/hf': -1, 'segment_indices': (-1, -1)},\n",
       "       'sync'], dtype=object)"
      ]
     },
     "execution_count": 9,
     "metadata": {},
     "output_type": "execute_result"
    }
   ],
   "source": [
    "data[0]"
   ]
  },
  {
   "cell_type": "code",
   "execution_count": 14,
   "metadata": {},
   "outputs": [
    {
     "data": {
      "text/plain": [
       "'sync'"
      ]
     },
     "execution_count": 14,
     "metadata": {},
     "output_type": "execute_result"
    }
   ],
   "source": [
    "data[2][20]"
   ]
  },
  {
   "cell_type": "code",
   "execution_count": 18,
   "metadata": {},
   "outputs": [
    {
     "data": {
      "text/plain": [
       "3"
      ]
     },
     "execution_count": 18,
     "metadata": {},
     "output_type": "execute_result"
    }
   ],
   "source": [
    "opp[data[3000][20]]"
   ]
  },
  {
   "cell_type": "code",
   "execution_count": 13,
   "metadata": {},
   "outputs": [
    {
     "data": {
      "text/plain": [
       "201100"
      ]
     },
     "execution_count": 13,
     "metadata": {},
     "output_type": "execute_result"
    }
   ],
   "source": [
    "len(data)"
   ]
  },
  {
   "cell_type": "code",
   "execution_count": 12,
   "metadata": {},
   "outputs": [
    {
     "data": {
      "text/plain": [
       "array([2.3416388932026138, 21.353860191509114, -1.9771921592529278,\n",
       "       4.079440307297007, -1.6580854748978977, -3.7879239800498503,\n",
       "       4.000235480583781, -17.9386816520622, -14.028810876169635,\n",
       "       -5.772923476995674, -11.327511698842402, -3.8983301435039692,\n",
       "       -19.231814518765532, -5.4328709597495415, -8.46369600503448,\n",
       "       -3.5898673982084546], dtype=object)"
      ]
     },
     "execution_count": 12,
     "metadata": {},
     "output_type": "execute_result"
    }
   ],
   "source": [
    "data[1][1:17]"
   ]
  },
  {
   "cell_type": "code",
   "execution_count": null,
   "metadata": {},
   "outputs": [],
   "source": []
  }
 ],
 "metadata": {
  "kernelspec": {
   "display_name": "Python 3",
   "language": "python",
   "name": "python3"
  },
  "language_info": {
   "codemirror_mode": {
    "name": "ipython",
    "version": 3
   },
   "file_extension": ".py",
   "mimetype": "text/x-python",
   "name": "python",
   "nbconvert_exporter": "python",
   "pygments_lexer": "ipython3",
   "version": "3.7.4"
  }
 },
 "nbformat": 4,
 "nbformat_minor": 4
}

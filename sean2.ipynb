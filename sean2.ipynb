{
 "cells": [
  {
   "cell_type": "code",
   "execution_count": 1,
   "metadata": {},
   "outputs": [],
   "source": [
    "import numpy as np\n",
    "from scipy.stats import ttest_1samp, wilcoxon, ttest_ind, mannwhitneyu\n",
    "import pickle\n",
    "import os"
   ]
  },
  {
   "cell_type": "code",
   "execution_count": null,
   "metadata": {},
   "outputs": [],
   "source": [
    "# mean values\n",
    "daily_intake = np.array([5260,5470,5640,6180,6390,6515,\n",
    "                         6805,7515,7515,8230,8770])\n",
    "\n",
    "# one sample t-test\n",
    "# null hypothesis: expected value =\n",
    "t_statistic, p_value = ttest_1samp(daily_intake, 7725)\n",
    "\n",
    "# p_value < 0.05 => alternative hypothesis:\n",
    "# data deviate significantly from the hypothesis that the mean\n",
    "# is ___ at the 5% level of significance\n",
    "print \"one-sample t-test\", p_value\n",
    "\n",
    "# one sample wilcoxon-test\n",
    "z_statistic, p_value = wilcoxon(daily_intake - 7725)\n",
    "print \"one-sample wilcoxon-test\", p_value"
   ]
  },
  {
   "cell_type": "code",
   "execution_count": null,
   "metadata": {},
   "outputs": [],
   "source": [
    "stress = np.array([\n",
    "# data\n",
    "[9.21, 0],\n",
    "[7.53, 1],\n",
    "[7.48, 1],\n",
    "[8.08, 1],\n",
    "[8.09, 1],\n",
    "[10.15, 1],\n",
    "[8.40, 1],\n",
    "[10.88, 1],\n",
    "[6.13, 1],\n",
    "[7.90, 1],\n",
    "[11.51, 0],\n",
    "[12.79, 0],\n",
    "[7.05, 1],\n",
    "[11.85, 0],\n",
    "[9.97, 0],\n",
    "[7.48, 1],\n",
    "[8.79, 0],\n",
    "[9.69, 0],\n",
    "[9.68, 0],\n",
    "[7.58, 1],\n",
    "[9.19, 0],\n",
    "[8.11, 1]])\n",
    "\n",
    "# similar to expend ~ stature in R\n",
    "group1 = stress[:, 1] == 0\n",
    "group1 = stress[group1][:, 0]\n",
    "group2 = stress[:, 1] == 1\n",
    "group2 = stress[group2][:, 0]\n",
    "\n",
    "# two-sample t-test\n",
    "# null hypothesis: the two groups have the same mean\n",
    "# this test assumes the two groups have the same variance...\n",
    "# (can be checked with tests for equal variance)\n",
    "# independent groups: e.g., how boys and girls fare at an exam\n",
    "# dependent groups: e.g., how the same class fare at 2 different exams\n",
    "t_statistic, p_value = ttest_ind(group1, group2)"
   ]
  },
  {
   "cell_type": "code",
   "execution_count": null,
   "metadata": {},
   "outputs": [],
   "source": [
    "\n",
    "# p_value < 0.05 => alternative hypothesis:\n",
    "# they don't have the same mean at the 5% significance level\n",
    "print \"two-sample t-test\", p_value\n",
    "\n",
    "# two-sample wilcoxon test\n",
    "# a.k.a Mann Whitney U\n",
    "u, p_value = mannwhitneyu(group1, group2)\n",
    "print \"two-sample wilcoxon-test\", p_value\n",
    "\n",
    "# pre and post-stress\n",
    "intake = np.array([\n",
    "[5260, 3910],\n",
    "[5470, 4220],\n",
    "[5640, 3885],\n",
    "[6180, 5160],\n",
    "[6390, 5645],\n",
    "[6515, 4680],\n",
    "[6805, 5265],\n",
    "[7515, 5975],\n",
    "[7515, 6790],\n",
    "[8230, 6900],\n",
    "[8770, 7335],\n",
    "])\n",
    "\n",
    "pre = intake[:, 0]\n",
    "post = intake[:, 1]\n",
    "\n",
    "# paired t-test: doing two measurments on the same experimental unit\n",
    "# (before and after a treatment)\n",
    "t_statistic, p_value = ttest_1samp(post - pre, 0)\n",
    "\n",
    "# p < 0.05 => alternative hypothesis:\n",
    "# the difference in mean is not equal to 0\n",
    "print \"paired t-test\", p_value\n",
    "\n",
    "# alternative to paired t-test when data has an ordinary scale or when not\n",
    "# normally distributed\n",
    "z_statistic, p_value = wilcoxon(post - pre)\n",
    "\n",
    "print \"paired wilcoxon-test\", p_value"
   ]
  },
  {
   "cell_type": "code",
   "execution_count": 2,
   "metadata": {},
   "outputs": [
    {
     "data": {
      "text/plain": [
       "['OpenBCISession_2020-03-06_10-28-17-LUKE',\n",
       " 'OpenBCISession_2020-02-07_10-42-36-FOUR.2',\n",
       " 'OpenBCISession_2020-02-23_16-49-310-VIR',\n",
       " 'OpenBCISession_2020-02-06_12-08-05-THREE',\n",
       " 'OpenBCISession_2020-02-29_17-51-57-BAHAR',\n",
       " 'OpenBCISession_2020-02-07_11-12-39-FIVE',\n",
       " 'OpenBCISession_2020-02-14_11-09-00-SEVEN',\n",
       " 'OpenBCISession_2020-02-10_10-55-19=ONE.2',\n",
       " 'OpenBCISession_2020-02-29_17-19-28-ELI',\n",
       " 'OpenBCISession_2020-02-14_11-43-46-EIGHT',\n",
       " 'OpenBCISession_2020-02-23_18-14-52-ISH',\n",
       " 'OpenBCISession_2020-02-07_12-09-54-SIX',\n",
       " 'OpenBCISession_2020-02-06_11-26-48-TWO']"
      ]
     },
     "execution_count": 2,
     "metadata": {},
     "output_type": "execute_result"
    }
   ],
   "source": [
    "baseFolder='./pickled-filt'\n",
    "files=[f for f in os.listdir(baseFolder) if not f.startswith('.')]\n",
    "files"
   ]
  },
  {
   "cell_type": "code",
   "execution_count": 3,
   "metadata": {},
   "outputs": [
    {
     "data": {
      "text/plain": [
       "array([8, -4.483524662646232e-12, -6.181721801112872e-13,\n",
       "       -3.801403636316536e-13, -5.853095785823825e-13,\n",
       "       -1.326938559031987e-12, -2.6965096822095802e-12,\n",
       "       3.6859404417555197e-13, -3.15547588058962e-12,\n",
       "       -1.3606893389805919e-12, -2.1316282072803006e-14,\n",
       "       -3.965716643961059e-13, -2.842170943040401e-14,\n",
       "       1.574740338128322e-12, -4.000355602329364e-12,\n",
       "       8.93507490218326e-13, 2.8990143619012088e-12, 504,\n",
       "       datetime.datetime(1900, 1, 1, 10, 29, 37, 406000),\n",
       "       {'bpm': -1, 'ibi': -1, 'sdnn': -1, 'sdsd': -1, 'rmssd': -1, 'pnn20': -1, 'pnn50': -1, 'hr_mad': -1, 'sd1': -1, 'sd2': -1, 's': -1, 'sd1/sd2': -1, 'breathingrate': -1, 'lf': -1, 'hf': -1, 'lf/hf': -1, 'segment_indices': (-1, -1)},\n",
       "       'sync'], dtype=object)"
      ]
     },
     "execution_count": 3,
     "metadata": {},
     "output_type": "execute_result"
    }
   ],
   "source": [
    "data=pickle.load(open('pickled-filt/'+files[0], 'rb'))\n"
   ]
  },
  {
   "cell_type": "code",
   "execution_count": 5,
   "metadata": {},
   "outputs": [
    {
     "data": {
      "text/plain": [
       "array([8, -4.483524662646232e-12, -6.181721801112872e-13,\n",
       "       -3.801403636316536e-13, -5.853095785823825e-13,\n",
       "       -1.326938559031987e-12, -2.6965096822095802e-12,\n",
       "       3.6859404417555197e-13, -3.15547588058962e-12,\n",
       "       -1.3606893389805919e-12, -2.1316282072803006e-14,\n",
       "       -3.965716643961059e-13, -2.842170943040401e-14,\n",
       "       1.574740338128322e-12, -4.000355602329364e-12,\n",
       "       8.93507490218326e-13, 2.8990143619012088e-12, 504,\n",
       "       datetime.datetime(1900, 1, 1, 10, 29, 37, 406000),\n",
       "       {'bpm': -1, 'ibi': -1, 'sdnn': -1, 'sdsd': -1, 'rmssd': -1, 'pnn20': -1, 'pnn50': -1, 'hr_mad': -1, 'sd1': -1, 'sd2': -1, 's': -1, 'sd1/sd2': -1, 'breathingrate': -1, 'lf': -1, 'hf': -1, 'lf/hf': -1, 'segment_indices': (-1, -1)},\n",
       "       'sync'], dtype=object)"
      ]
     },
     "execution_count": 5,
     "metadata": {},
     "output_type": "execute_result"
    }
   ],
   "source": [
    "data[0]"
   ]
  },
  {
   "cell_type": "code",
   "execution_count": null,
   "metadata": {},
   "outputs": [],
   "source": [
    "targetTimes=[\n",
    "    (10, 20),\n",
    "    (40, 80)\n",
    "]\n",
    "\n",
    "\n",
    "master=[]\n",
    "for file in files:\n",
    "    master.append(pickle.load(open('pickled-filt/'+file, 'rb')))\n",
    "\n",
    "newData=[]\n",
    "for participant in master:\n",
    "    for target in targetTimes:\n",
    "        out=[]\n",
    "        for i in range(target[0]*125, target[1]*125):\n",
    "            out.append(participant[i][1])\n",
    "            out.append(participant[i][19]['bpm'])\n",
    "        newData.append(out)"
   ]
  },
  {
   "cell_type": "code",
   "execution_count": 17,
   "metadata": {},
   "outputs": [],
   "source": [
    "matrix={\n",
    "    'one':{'traitAnxiety':69, \n",
    "           'stressor1': {'reportedStress':1, 'reportedStress+TraitAnxietyBias':0.420}, \n",
    "           'UB1': {'reportedStress':1, 'reportedStress+TraitAnxietyBias':0.420}, \n",
    "           'stressor2': {'reportedStress':1, 'reportedStress+TraitAnxietyBias':0.420}, \n",
    "           'GB1': {'reportedStress':1, 'reportedStress+TraitAnxietyBias':0.420}, \n",
    "           'stressor3': {'reportedStress':1, 'reportedStress+TraitAnxietyBias':0.420}, \n",
    "           'UB2': {'reportedStress':1, 'reportedStress+TraitAnxietyBias':0.420}, \n",
    "           'stressor4': {'reportedStress':1, 'reportedStress+TraitAnxietyBias':0.420}, \n",
    "           'GB2': {'reportedStress':1, 'reportedStress+TraitAnxietyBias':0.420}, \n",
    "          },\n",
    "    'two':{'traitAnxiety':69, \n",
    "           'stressor1': {'reportedStress':1, 'reportedStress+TraitAnxietyBias':0.420}, \n",
    "           'UB1': {'reportedStress':1, 'reportedStress+TraitAnxietyBias':0.420}, \n",
    "           'stressor2': {'reportedStress':1, 'reportedStress+TraitAnxietyBias':0.420}, \n",
    "           'GB1': {'reportedStress':1, 'reportedStress+TraitAnxietyBias':0.420}, \n",
    "           'stressor3': {'reportedStress':1, 'reportedStress+TraitAnxietyBias':0.420}, \n",
    "           'UB2': {'reportedStress':1, 'reportedStress+TraitAnxietyBias':0.420}, \n",
    "           'stressor4': {'reportedStress':1, 'reportedStress+TraitAnxietyBias':0.420}, \n",
    "           'GB2': {'reportedStress':1, 'reportedStress+TraitAnxietyBias':0.420}, \n",
    "          },\n",
    "     'three':{'traitAnxiety':69, \n",
    "           'stressor1': {'reportedStress':1, 'reportedStress+TraitAnxietyBias':0.420}, \n",
    "           'UB1': {'reportedStress':1, 'reportedStress+TraitAnxietyBias':0.420}, \n",
    "           'stressor2': {'reportedStress':1, 'reportedStress+TraitAnxietyBias':0.420}, \n",
    "           'GB1': {'reportedStress':1, 'reportedStress+TraitAnxietyBias':0.420}, \n",
    "           'stressor3': {'reportedStress':1, 'reportedStress+TraitAnxietyBias':0.420}, \n",
    "           'UB2': {'reportedStress':1, 'reportedStress+TraitAnxietyBias':0.420}, \n",
    "           'stressor4': {'reportedStress':1, 'reportedStress+TraitAnxietyBias':0.420}, \n",
    "           'GB2': {'reportedStress':1, 'reportedStress+TraitAnxietyBias':0.420}, \n",
    "          },\n",
    "     'four':{'traitAnxiety':69, \n",
    "           'stressor1': {'reportedStress':1, 'reportedStress+TraitAnxietyBias':0.420}, \n",
    "           'UB1': {'reportedStress':1, 'reportedStress+TraitAnxietyBias':0.420}, \n",
    "           'stressor2': {'reportedStress':1, 'reportedStress+TraitAnxietyBias':0.420}, \n",
    "           'GB1': {'reportedStress':1, 'reportedStress+TraitAnxietyBias':0.420}, \n",
    "           'stressor3': {'reportedStress':1, 'reportedStress+TraitAnxietyBias':0.420}, \n",
    "           'UB2': {'reportedStress':1, 'reportedStress+TraitAnxietyBias':0.420}, \n",
    "           'stressor4': {'reportedStress':1, 'reportedStress+TraitAnxietyBias':0.420}, \n",
    "           'GB2': {'reportedStress':1, 'reportedStress+TraitAnxietyBias':0.420}, \n",
    "          },\n",
    "     'five':{'traitAnxiety':69, \n",
    "           'stressor1': {'reportedStress':1, 'reportedStress+TraitAnxietyBias':0.420}, \n",
    "           'UB1': {'reportedStress':1, 'reportedStress+TraitAnxietyBias':0.420}, \n",
    "           'stressor2': {'reportedStress':1, 'reportedStress+TraitAnxietyBias':0.420}, \n",
    "           'GB1': {'reportedStress':1, 'reportedStress+TraitAnxietyBias':0.420}, \n",
    "           'stressor3': {'reportedStress':1, 'reportedStress+TraitAnxietyBias':0.420}, \n",
    "           'UB2': {'reportedStress':1, 'reportedStress+TraitAnxietyBias':0.420}, \n",
    "           'stressor4': {'reportedStress':1, 'reportedStress+TraitAnxietyBias':0.420}, \n",
    "           'GB2': {'reportedStress':1, 'reportedStress+TraitAnxietyBias':0.420}, \n",
    "          },\n",
    "     'six':{'traitAnxiety':69, \n",
    "           'stressor1': {'reportedStress':1, 'reportedStress+TraitAnxietyBias':0.420}, \n",
    "           'UB1': {'reportedStress':1, 'reportedStress+TraitAnxietyBias':0.420}, \n",
    "           'stressor2': {'reportedStress':1, 'reportedStress+TraitAnxietyBias':0.420}, \n",
    "           'GB1': {'reportedStress':1, 'reportedStress+TraitAnxietyBias':0.420}, \n",
    "           'stressor3': {'reportedStress':1, 'reportedStress+TraitAnxietyBias':0.420}, \n",
    "           'UB2': {'reportedStress':1, 'reportedStress+TraitAnxietyBias':0.420}, \n",
    "           'stressor4': {'reportedStress':1, 'reportedStress+TraitAnxietyBias':0.420}, \n",
    "           'GB2': {'reportedStress':1, 'reportedStress+TraitAnxietyBias':0.420}, \n",
    "          },\n",
    "     'seven':{'traitAnxiety':69, \n",
    "           'stressor1': {'reportedStress':1, 'reportedStress+TraitAnxietyBias':0.420}, \n",
    "           'UB1': {'reportedStress':1, 'reportedStress+TraitAnxietyBias':0.420}, \n",
    "           'stressor2': {'reportedStress':1, 'reportedStress+TraitAnxietyBias':0.420}, \n",
    "           'GB1': {'reportedStress':1, 'reportedStress+TraitAnxietyBias':0.420}, \n",
    "           'stressor3': {'reportedStress':1, 'reportedStress+TraitAnxietyBias':0.420}, \n",
    "           'UB2': {'reportedStress':1, 'reportedStress+TraitAnxietyBias':0.420}, \n",
    "           'stressor4': {'reportedStress':1, 'reportedStress+TraitAnxietyBias':0.420}, \n",
    "           'GB2': {'reportedStress':1, 'reportedStress+TraitAnxietyBias':0.420}, \n",
    "          },\n",
    "     'eight':{'traitAnxiety':69, \n",
    "           'stressor1': {'reportedStress':1, 'reportedStress+TraitAnxietyBias':0.420}, \n",
    "           'UB1': {'reportedStress':1, 'reportedStress+TraitAnxietyBias':0.420}, \n",
    "           'stressor2': {'reportedStress':1, 'reportedStress+TraitAnxietyBias':0.420}, \n",
    "           'GB1': {'reportedStress':1, 'reportedStress+TraitAnxietyBias':0.420}, \n",
    "           'stressor3': {'reportedStress':1, 'reportedStress+TraitAnxietyBias':0.420}, \n",
    "           'UB2': {'reportedStress':1, 'reportedStress+TraitAnxietyBias':0.420}, \n",
    "           'stressor4': {'reportedStress':1, 'reportedStress+TraitAnxietyBias':0.420}, \n",
    "           'GB2': {'reportedStress':1, 'reportedStress+TraitAnxietyBias':0.420}, \n",
    "          },\n",
    "    \n",
    "}"
   ]
  },
  {
   "cell_type": "code",
   "execution_count": null,
   "metadata": {},
   "outputs": [],
   "source": []
  }
 ],
 "metadata": {
  "kernelspec": {
   "display_name": "Python 3",
   "language": "python",
   "name": "python3"
  },
  "language_info": {
   "codemirror_mode": {
    "name": "ipython",
    "version": 3
   },
   "file_extension": ".py",
   "mimetype": "text/x-python",
   "name": "python",
   "nbconvert_exporter": "python",
   "pygments_lexer": "ipython3",
   "version": "3.7.4"
  }
 },
 "nbformat": 4,
 "nbformat_minor": 4
}

{
 "cells": [
  {
   "cell_type": "code",
   "execution_count": 1,
   "metadata": {},
   "outputs": [
    {
     "name": "stderr",
     "output_type": "stream",
     "text": [
      "Using TensorFlow backend.\n"
     ]
    },
    {
     "name": "stdout",
     "output_type": "stream",
     "text": [
      "[name: \"/device:CPU:0\"\n",
      "device_type: \"CPU\"\n",
      "memory_limit: 268435456\n",
      "locality {\n",
      "}\n",
      "incarnation: 10061954939665648104\n",
      ", name: \"/device:XLA_CPU:0\"\n",
      "device_type: \"XLA_CPU\"\n",
      "memory_limit: 17179869184\n",
      "locality {\n",
      "}\n",
      "incarnation: 11621314086826064725\n",
      "physical_device_desc: \"device: XLA_CPU device\"\n",
      ", name: \"/device:GPU:0\"\n",
      "device_type: \"GPU\"\n",
      "memory_limit: 621215744\n",
      "locality {\n",
      "  bus_id: 1\n",
      "  links {\n",
      "  }\n",
      "}\n",
      "incarnation: 735452637056015375\n",
      "physical_device_desc: \"device: 0, name: TITAN RTX, pci bus id: 0000:65:00.0, compute capability: 7.5\"\n",
      ", name: \"/device:GPU:1\"\n",
      "device_type: \"GPU\"\n",
      "memory_limit: 7724187648\n",
      "locality {\n",
      "  bus_id: 1\n",
      "  links {\n",
      "  }\n",
      "}\n",
      "incarnation: 5978883732378244276\n",
      "physical_device_desc: \"device: 1, name: GeForce RTX 2070 SUPER, pci bus id: 0000:17:00.0, compute capability: 7.5\"\n",
      ", name: \"/device:XLA_GPU:0\"\n",
      "device_type: \"XLA_GPU\"\n",
      "memory_limit: 17179869184\n",
      "locality {\n",
      "}\n",
      "incarnation: 11217499458353241581\n",
      "physical_device_desc: \"device: XLA_GPU device\"\n",
      ", name: \"/device:XLA_GPU:1\"\n",
      "device_type: \"XLA_GPU\"\n",
      "memory_limit: 17179869184\n",
      "locality {\n",
      "}\n",
      "incarnation: 6420801507856377138\n",
      "physical_device_desc: \"device: XLA_GPU device\"\n",
      "]\n",
      "Now using CUDA device 0\n",
      "Enabling CUDA with 799.4 MB available memory\n"
     ]
    }
   ],
   "source": [
    "\n",
    "import os\n",
    "# os.environ[\"CUDA_VISIBLE_DEVICES\"]=\"0\"\n",
    "\n",
    "from math import sqrt\n",
    "from numpy import concatenate\n",
    "from matplotlib import pyplot\n",
    "from pandas import read_csv\n",
    "from pandas import DataFrame\n",
    "from pandas import concat\n",
    "from sklearn.preprocessing import MinMaxScaler\n",
    "from sklearn.preprocessing import LabelEncoder\n",
    "from sklearn.metrics import mean_squared_error\n",
    "from keras.models import Sequential\n",
    "from keras.layers import Dense\n",
    "from keras.layers import LSTM\n",
    "from keras.layers import Conv2D\n",
    "from keras.layers import Conv1D\n",
    "from keras.layers import Masking\n",
    "from sklearn.preprocessing import normalize\n",
    "from keras.models import load_model\n",
    "from keras.utils import multi_gpu_model\n",
    "\n",
    "import keras\n",
    "import pickle\n",
    "import numpy as np\n",
    "from tensorflow.python.client import device_lib\n",
    "from keras import backend as K\n",
    "from keras.utils import to_categorical\n",
    "\n",
    "print(device_lib.list_local_devices()) # list of DeviceAttributes\n",
    "\n",
    "# %gui qt\n",
    "import numpy as np\n",
    "import mne\n",
    "import pickle\n",
    "import sys\n",
    "import os\n",
    "import matplotlib\n",
    "\n",
    "import matplotlib.pyplot as plt\n",
    "\n",
    "# import vispy\n",
    "# print(vispy.sys_info())\n",
    "# BASE_DIR = os.path.dirname(os.path.dirname(os.path.abspath(__file__)))\n",
    "# sys.path.append(BASE_DIR)\n",
    "%matplotlib inline\n",
    "mne.utils.set_config('MNE_USE_CUDA', 'true')  \n",
    "mne.cuda.init_cuda(verbose=True)"
   ]
  },
  {
   "cell_type": "code",
   "execution_count": 2,
   "metadata": {},
   "outputs": [],
   "source": [
    "baseFolder='./pickled-avg'\n",
    "files=[f for f in os.listdir(baseFolder) if not f.startswith('.')]\n",
    "\n",
    "data=pickle.load(open('pickled-avg/OpenBCISession_2020-03-06_10-28-17-LUKE', 'rb'))"
   ]
  },
  {
   "cell_type": "code",
   "execution_count": 3,
   "metadata": {},
   "outputs": [
    {
     "data": {
      "text/plain": [
       "[9,\n",
       " 26244.93,\n",
       " 2880.89,\n",
       " 1376.11,\n",
       " 14922.76,\n",
       " 7416.26,\n",
       " 18995.14,\n",
       " 9926.9,\n",
       " 12764.05,\n",
       " 25360.13,\n",
       " -12.83,\n",
       " -9006.39,\n",
       " 9666.1,\n",
       " 24227.99,\n",
       " 18975.42,\n",
       " 21420.93,\n",
       " 15267.38,\n",
       " 504,\n",
       " datetime.datetime(1900, 1, 1, 10, 29, 37, 406000),\n",
       " {'bpm': -1,\n",
       "  'ibi': -1,\n",
       "  'sdnn': -1,\n",
       "  'sdsd': -1,\n",
       "  'rmssd': -1,\n",
       "  'pnn20': -1,\n",
       "  'pnn50': -1,\n",
       "  'hr_mad': -1,\n",
       "  'sd1': -1,\n",
       "  'sd2': -1,\n",
       "  's': -1,\n",
       "  'sd1/sd2': -1,\n",
       "  'breathingrate': -1,\n",
       "  'lf': -1,\n",
       "  'hf': -1,\n",
       "  'lf/hf': -1,\n",
       "  'segment_indices': (-1, -1)},\n",
       " 'sync']"
      ]
     },
     "execution_count": 3,
     "metadata": {},
     "output_type": "execute_result"
    }
   ],
   "source": [
    "data[1]"
   ]
  },
  {
   "cell_type": "code",
   "execution_count": 4,
   "metadata": {},
   "outputs": [],
   "source": [
    "\n",
    "hot= {\n",
    "    'paced':0,\n",
    "    'slowBreath':1,\n",
    "    'rest':2,\n",
    "    'baseline':3,\n",
    "    'sync':4,\n",
    "    'survey':5,\n",
    "    'stressor':6\n",
    "}"
   ]
  },
  {
   "cell_type": "code",
   "execution_count": 5,
   "metadata": {},
   "outputs": [],
   "source": [
    "good={\n",
    "    'paced':True,\n",
    "    'slowBreath':True,\n",
    "    'rest':False,\n",
    "    'baseline':True,\n",
    "    'sync':False,\n",
    "    'survey':False,\n",
    "    'stressor':True\n",
    "}"
   ]
  },
  {
   "cell_type": "code",
   "execution_count": 6,
   "metadata": {
    "scrolled": true
   },
   "outputs": [
    {
     "name": "stdout",
     "output_type": "stream",
     "text": [
      "sync baseline 0\n",
      "baseline stressor 15030\n",
      "rest slowBreath 11302\n",
      "rest stressor 25070\n",
      "rest paced 11241\n",
      "rest stressor 25015\n",
      "rest slowBreath 11242\n",
      "rest stressor 25066\n",
      "rest paced 11302\n"
     ]
    }
   ],
   "source": [
    "features=[]\n",
    "labels=[]\n",
    "add=[]\n",
    "prev='sync'\n",
    "for i in range(len(data)):\n",
    "    if good[data[i][20]]:\n",
    "#         print(data[i][20])\n",
    "        if prev!=data[i][20] :\n",
    "            print(prev, data[i][20], len(add))\n",
    "            features.append(add)\n",
    "            labels.append(hot[data[i-1][20]])\n",
    "            add = []\n",
    "\n",
    "\n",
    "        add.append(data[i][1:17])\n",
    "    prev=data[i][20]\n",
    "features=features[1:]\n",
    "labels=labels[1:]\n",
    "#     try:\n",
    "#         features.append(data[i][19]['bpm'])\n",
    "    \n",
    "#     except Exception as e: \n",
    "#         print(e, i)\n",
    "#         print(data[i])\n",
    "\n",
    "#     for k in range(1, 17):\n",
    "#         add.append([data[i][k]])\n",
    "#     add.append([data[0][19]['bpm']])\n",
    "#     labels.append([float(hot[data[i][20]])])"
   ]
  },
  {
   "cell_type": "code",
   "execution_count": 7,
   "metadata": {
    "scrolled": true
   },
   "outputs": [
    {
     "data": {
      "text/plain": [
       "[26095.91,\n",
       " 2745.84,\n",
       " 1289.29,\n",
       " 14885.05,\n",
       " 7387.41,\n",
       " 18965.54,\n",
       " 9847.4,\n",
       " 12733.61,\n",
       " 25351.04,\n",
       " 11.53,\n",
       " -9099.06,\n",
       " 9614.27,\n",
       " 24143.64,\n",
       " 18917.09,\n",
       " 21363.39,\n",
       " 15275.2]"
      ]
     },
     "execution_count": 7,
     "metadata": {},
     "output_type": "execute_result"
    }
   ],
   "source": [
    "features[0][0]"
   ]
  },
  {
   "cell_type": "code",
   "execution_count": 8,
   "metadata": {},
   "outputs": [
    {
     "data": {
      "text/plain": [
       "[3, 2, 2, 2, 2, 2, 2, 2]"
      ]
     },
     "execution_count": 8,
     "metadata": {},
     "output_type": "execute_result"
    }
   ],
   "source": [
    "labels"
   ]
  },
  {
   "cell_type": "code",
   "execution_count": 9,
   "metadata": {},
   "outputs": [],
   "source": [
    "# train_X = np.array(features[0:int(7*len(features)/10)])\n",
    "# train_y = np.array(labels[0:int(7*len(labels)/10)])\n",
    "\n",
    "# test_X = np.array(features[int(7*len(features)/10):len(features)])\n",
    "# test_y = np.array(labels[int(7*len(labels)/10):len(labels)])\n",
    "\n",
    "train_X = np.array(features)\n",
    "train_y = np.array(labels)\n",
    "\n",
    "test_X = np.array(features)\n",
    "test_y = np.array(labels)"
   ]
  },
  {
   "cell_type": "code",
   "execution_count": 10,
   "metadata": {},
   "outputs": [],
   "source": [
    "train_y = to_categorical(train_y)\n",
    "test_y = to_categorical(test_y)"
   ]
  },
  {
   "cell_type": "code",
   "execution_count": 11,
   "metadata": {},
   "outputs": [],
   "source": [
    "# scale=train_y[0]/(normalize(train_y.reshape(-1, 1), axis=0)[0])\n",
    "# scale=scale[0]\n",
    "# print(train_y[0], (normalize(train_y.reshape(-1, 1), axis=0)[0][0]))\n",
    "# print(\"Scale factor is\", scale)"
   ]
  },
  {
   "cell_type": "code",
   "execution_count": 12,
   "metadata": {},
   "outputs": [
    {
     "name": "stdout",
     "output_type": "stream",
     "text": [
      "train_X shape is (8,)\n",
      "train_y shape is (8, 4)\n",
      "test_X shape is (8,)\n",
      "test_y shape is (8, 4)\n"
     ]
    }
   ],
   "source": [
    "print(\"train_X shape is\", train_X.shape)\n",
    "print(\"train_y shape is\", train_y.shape)\n",
    "print(\"test_X shape is\", test_X.shape)\n",
    "print(\"test_y shape is\", test_y.shape)\n"
   ]
  },
  {
   "cell_type": "code",
   "execution_count": 16,
   "metadata": {
    "scrolled": true
   },
   "outputs": [],
   "source": [
    "train_X=keras.preprocessing.sequence.pad_sequences(train_X, maxlen=None, dtype='float32', padding='pre', truncating='pre', value=-9999)\n",
    "test_X=keras.preprocessing.sequence.pad_sequences(test_X, maxlen=None, dtype='float32', padding='pre', truncating='pre', value=-9999)\n",
    "# train_y=normalize(train_y.reshape(-1, 1), axis=0)\n",
    "# test_y=normalize(test_y.reshape(-1, 1), axis=0)\n",
    "\n",
    "# design network"
   ]
  },
  {
   "cell_type": "code",
   "execution_count": null,
   "metadata": {
    "scrolled": true
   },
   "outputs": [
    {
     "name": "stdout",
     "output_type": "stream",
     "text": [
      "WARNING:tensorflow:From /home/sean/.local/lib/python3.7/site-packages/tensorflow/python/keras/backend.py:3794: add_dispatch_support.<locals>.wrapper (from tensorflow.python.ops.array_ops) is deprecated and will be removed in a future version.\n",
      "Instructions for updating:\n",
      "Use tf.where in 2.0, which has the same broadcast rule as np.where\n",
      "WARNING:tensorflow:From /home/sean/.local/lib/python3.7/site-packages/keras/backend/tensorflow_backend.py:422: The name tf.global_variables is deprecated. Please use tf.compat.v1.global_variables instead.\n",
      "\n",
      "Train on 8 samples, validate on 8 samples\n",
      "Epoch 1/100\n",
      " - 16s - loss: 0.3228 - val_loss: 0.2966\n",
      "Epoch 2/100\n",
      " - 16s - loss: 0.2966 - val_loss: 0.2734\n",
      "Epoch 3/100\n",
      " - 16s - loss: 0.2734 - val_loss: 0.2506\n",
      "Epoch 4/100\n",
      " - 16s - loss: 0.2506 - val_loss: 0.2277\n",
      "Epoch 5/100\n",
      " - 16s - loss: 0.2277 - val_loss: 0.2072\n",
      "Epoch 6/100\n",
      " - 16s - loss: 0.2072 - val_loss: 0.1883\n",
      "Epoch 7/100\n",
      " - 16s - loss: 0.1883 - val_loss: 0.1720\n",
      "Epoch 8/100\n",
      " - 16s - loss: 0.1720 - val_loss: 0.1574\n",
      "Epoch 9/100\n",
      " - 16s - loss: 0.1574 - val_loss: 0.1444\n",
      "Epoch 10/100\n",
      " - 16s - loss: 0.1444 - val_loss: 0.1330\n",
      "Epoch 11/100\n",
      " - 16s - loss: 0.1330 - val_loss: 0.1231\n",
      "Epoch 12/100\n",
      " - 16s - loss: 0.1231 - val_loss: 0.1146\n",
      "Epoch 13/100\n",
      " - 16s - loss: 0.1146 - val_loss: 0.1074\n",
      "Epoch 14/100\n",
      " - 16s - loss: 0.1074 - val_loss: 0.1014\n",
      "Epoch 15/100\n",
      " - 16s - loss: 0.1014 - val_loss: 0.0962\n",
      "Epoch 16/100\n",
      " - 16s - loss: 0.0962 - val_loss: 0.0919\n",
      "Epoch 17/100\n",
      " - 16s - loss: 0.0919 - val_loss: 0.0882\n",
      "Epoch 18/100\n",
      " - 16s - loss: 0.0882 - val_loss: 0.0851\n",
      "Epoch 19/100\n",
      " - 16s - loss: 0.0851 - val_loss: 0.0824\n",
      "Epoch 20/100\n",
      " - 16s - loss: 0.0824 - val_loss: 0.0802\n",
      "Epoch 21/100\n",
      " - 16s - loss: 0.0802 - val_loss: 0.0785\n",
      "Epoch 22/100\n",
      " - 16s - loss: 0.0785 - val_loss: 0.0771\n",
      "Epoch 23/100\n",
      " - 16s - loss: 0.0771 - val_loss: 0.0758\n",
      "Epoch 24/100\n",
      " - 16s - loss: 0.0758 - val_loss: 0.0747\n",
      "Epoch 25/100\n",
      " - 16s - loss: 0.0747 - val_loss: 0.0737\n",
      "Epoch 26/100\n",
      " - 16s - loss: 0.0737 - val_loss: 0.0728\n",
      "Epoch 27/100\n",
      " - 16s - loss: 0.0728 - val_loss: 0.0721\n",
      "Epoch 28/100\n",
      " - 16s - loss: 0.0721 - val_loss: 0.0714\n",
      "Epoch 29/100\n",
      " - 16s - loss: 0.0714 - val_loss: 0.0708\n",
      "Epoch 30/100\n",
      " - 16s - loss: 0.0708 - val_loss: 0.0702\n",
      "Epoch 31/100\n",
      " - 16s - loss: 0.0702 - val_loss: 0.0697\n",
      "Epoch 32/100\n",
      " - 16s - loss: 0.0697 - val_loss: 0.0693\n",
      "Epoch 33/100\n",
      " - 16s - loss: 0.0693 - val_loss: 0.0689\n",
      "Epoch 34/100\n",
      " - 16s - loss: 0.0689 - val_loss: 0.0685\n",
      "Epoch 35/100\n",
      " - 16s - loss: 0.0685 - val_loss: 0.0682\n",
      "Epoch 36/100\n",
      " - 16s - loss: 0.0682 - val_loss: 0.0679\n",
      "Epoch 37/100\n",
      " - 16s - loss: 0.0679 - val_loss: 0.0676\n",
      "Epoch 38/100\n",
      " - 16s - loss: 0.0676 - val_loss: 0.0674\n",
      "Epoch 39/100\n",
      " - 16s - loss: 0.0674 - val_loss: 0.0672\n",
      "Epoch 40/100\n",
      " - 16s - loss: 0.0672 - val_loss: 0.0670\n",
      "Epoch 41/100\n",
      " - 17s - loss: 0.0670 - val_loss: 0.0668\n",
      "Epoch 42/100\n",
      " - 16s - loss: 0.0668 - val_loss: 0.0666\n",
      "Epoch 43/100\n",
      " - 16s - loss: 0.0666 - val_loss: 0.0664\n",
      "Epoch 44/100\n",
      " - 16s - loss: 0.0664 - val_loss: 0.0663\n",
      "Epoch 45/100\n"
     ]
    }
   ],
   "source": [
    "model = Sequential()\n",
    "model.add(Masking(mask_value=-9999, input_shape=(None, test_X.shape[-1])))\n",
    "model.add(LSTM(220))\n",
    "model.add(Dense(50, activation='sigmoid'))\n",
    "model.add(Dense(20, activation='relu'))\n",
    "model.add(Dense(train_y.shape[1], activation='softmax'))\n",
    "# model = multi_gpu_model(model)\n",
    "model.compile(loss='mae', optimizer='adam')\n",
    "# fit network\n",
    "\n",
    "history = model.fit(train_X, train_y, epochs=100, batch_size=125, validation_data=(test_X, test_y), verbose=2, shuffle=False)\n",
    "# plot history\n",
    "pyplot.plot(history.history['loss'], label='train')\n",
    "pyplot.plot(history.history['val_loss'], label='test')\n",
    "pyplot.legend()\n",
    "pyplot.show()"
   ]
  },
  {
   "cell_type": "code",
   "execution_count": null,
   "metadata": {},
   "outputs": [],
   "source": [
    "model.save('./models/eeg-block-2.h5')"
   ]
  },
  {
   "cell_type": "code",
   "execution_count": 15,
   "metadata": {},
   "outputs": [
    {
     "data": {
      "text/plain": [
       "(8,)"
      ]
     },
     "execution_count": 15,
     "metadata": {},
     "output_type": "execute_result"
    }
   ],
   "source": [
    "test_X.shape"
   ]
  },
  {
   "cell_type": "code",
   "execution_count": 17,
   "metadata": {},
   "outputs": [
    {
     "name": "stdout",
     "output_type": "stream",
     "text": [
      "[[0.02238274 0.00486007 0.91967905 0.05307809]\n",
      " [0.02244086 0.00487879 0.9196637  0.05301662]\n",
      " [0.02295491 0.00511418 0.9192292  0.05270174]\n",
      " [0.02235947 0.00494177 0.9228301  0.04986858]\n",
      " [0.01851877 0.00375323 0.9356798  0.04204822]\n",
      " [0.01851877 0.00375323 0.9356798  0.04204822]\n",
      " [0.01851877 0.00375323 0.9356798  0.04204822]\n",
      " [0.01772436 0.00365375 0.9352487  0.04337322]]\n"
     ]
    }
   ],
   "source": [
    "# make a prediction\n",
    "model = load_model('./models/eeg-block.h5')\n",
    "yhat = model.predict(test_X)\n",
    "print(yhat)\n"
   ]
  },
  {
   "cell_type": "code",
   "execution_count": null,
   "metadata": {},
   "outputs": [],
   "source": [
    "# test_X = test_X.reshape((test_X.shape[0], test_X.shape[2]))\n",
    "# invert scaling for forecast\n",
    "inv_yhat = concatenate((yhat, test_X[:, 1:]), axis=1)\n",
    "inv_yhat = scaler.inverse_transform(inv_yhat)\n",
    "inv_yhat = inv_yhat[:,0]\n",
    "# invert scaling for actual\n",
    "test_y = test_y.reshape((len(test_y), 1))\n",
    "inv_y = concatenate((test_y, test_X[:, 1:]), axis=1)\n",
    "inv_y = scaler.inverse_transform(inv_y)\n",
    "inv_y = inv_y[:,0]\n",
    "# calculate RMSE\n",
    "rmse = sqrt(mean_squared_error(inv_y, inv_yhat))\n",
    "print('Test RMSE: %.3f' % rmse)"
   ]
  },
  {
   "cell_type": "code",
   "execution_count": null,
   "metadata": {},
   "outputs": [],
   "source": []
  }
 ],
 "metadata": {
  "kernelspec": {
   "display_name": "Python 3",
   "language": "python",
   "name": "python3"
  },
  "language_info": {
   "codemirror_mode": {
    "name": "ipython",
    "version": 3
   },
   "file_extension": ".py",
   "mimetype": "text/x-python",
   "name": "python",
   "nbconvert_exporter": "python",
   "pygments_lexer": "ipython3",
   "version": "3.7.4"
  }
 },
 "nbformat": 4,
 "nbformat_minor": 4
}

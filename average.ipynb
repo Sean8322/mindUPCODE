{
 "cells": [
  {
   "cell_type": "code",
   "execution_count": 58,
   "metadata": {},
   "outputs": [],
   "source": [
    "import os\n",
    "from multiprocessing import Pool\n",
    "baseFolder='/home/sean/pench/graphs/'\n",
    "outFolder='/home/sean/pench/brian is stupid/'\n",
    "inp=open('OpenBCISession_2020-02-06_11-26-48-TWO-bpm.csv', 'r')"
   ]
  },
  {
   "cell_type": "code",
   "execution_count": 60,
   "metadata": {
    "scrolled": true
   },
   "outputs": [
    {
     "name": "stdout",
     "output_type": "stream",
     "text": [
      "OpenBCISession_2020-02-06_11-26-48-TWO-bpm.csv\n"
     ]
    }
   ],
   "source": [
    "bloc={\n",
    "    1:\"sync\",\n",
    "    2:\"baseline\",\n",
    "    3:\"stressor\",\n",
    "    4:\"survey\",\n",
    "    5:\"rest\",\n",
    "    6:\"slowBreath\",\n",
    "    7: \"paced\"\n",
    "}\n",
    "\n",
    "a={\n",
    "    \"sync\":[0, 0],\n",
    "    \"baseline\":[0, 0],\n",
    "    \"stressor\":[0, 0],\n",
    "    \"survey\":[0, 0],\n",
    "    \"rest\":[0, 0],\n",
    "    \"slowBreath\":[0, 0],\n",
    "    \"paced\":[0, 0]\n",
    "}\n",
    "\n",
    "coun=[1, 1, 1, 1, 1, 1, 1, 1]\n",
    "\n",
    "def av(nam):\n",
    "    print(nam)\n",
    "    inp=open(baseFolder+nam, 'r')\n",
    "    out=[]\n",
    "    line=inp.readline()\n",
    "    start=0\n",
    "    su=0\n",
    "    i=1\n",
    "    prev=1\n",
    "    while len(line)>0:\n",
    "        line=line.split(', ')\n",
    "        line=[float(line[0]), int(line[1].strip())]\n",
    "        a[bloc[line[1]]][0]+=line[0]\n",
    "        a[bloc[line[1]]][1]+=1\n",
    "#         if line[1]!=prev:\n",
    "# #             print(line[1], prev)\n",
    "#             av=float(su/i)\n",
    "# #             for k in range(i):\n",
    "#             out.append([av, str(bloc[prev]) + str(coun[line[1]])])\n",
    "#             coun[line[1]]+=1\n",
    "#             su=0\n",
    "#             start=0\n",
    "#             i=1\n",
    "            \n",
    "        i+=1\n",
    "        su+=line[0]\n",
    "        prev=line[1]\n",
    "        line=inp.readline()\n",
    "    ou = open(outFolder+nam, 'w')\n",
    "    for elem in list(a.keys()):\n",
    "        ou.write(str(float(a[elem][0]/a[elem][1])) + ', '+ elem + '\\n')\n",
    "#     for i in range(len(out)):\n",
    "#         print(str(out[i][0]),out[i][1])\n",
    "#         ou.write(str(out[i][0]) + ', ' + out[i][1] + '\\n')\n",
    "av('OpenBCISession_2020-02-06_11-26-48-TWO-bpm.csv')"
   ]
  },
  {
   "cell_type": "code",
   "execution_count": null,
   "metadata": {},
   "outputs": [],
   "source": []
  },
  {
   "cell_type": "code",
   "execution_count": 61,
   "metadata": {},
   "outputs": [],
   "source": [
    "files=[f for f in os.listdir(baseFolder) if f[-4:] == '.csv']\n"
   ]
  },
  {
   "cell_type": "code",
   "execution_count": 62,
   "metadata": {},
   "outputs": [
    {
     "data": {
      "text/plain": [
       "str"
      ]
     },
     "execution_count": 62,
     "metadata": {},
     "output_type": "execute_result"
    }
   ],
   "source": [
    "type(files[0])"
   ]
  },
  {
   "cell_type": "code",
   "execution_count": 63,
   "metadata": {
    "scrolled": true
   },
   "outputs": [
    {
     "name": "stdout",
     "output_type": "stream",
     "text": [
      "OpenBCISession_2020-02-23_18-14-52-ISH-rmssd.csv\n",
      "OpenBCISession_2020-02-29_17-19-28-ELI-pnn50.csv\n",
      "OpenBCISession_2020-02-14_11-09-00-SEVEN-pnn50.csv\n",
      "OpenBCISession_2020-02-23_16-49-310-VIR-rmssd.csv\n",
      "OpenBCISession_2020-02-29_17-51-57-BAHAR-sdnn.csv\n",
      "OpenBCISession_2020-02-07_10-42-36-FOUR.2-rmssd.csv\n",
      "OpenBCISession_2020-02-07_12-09-54-SIX-rmssd.csv\n",
      "OpenBCISession_2020-02-07_11-12-39-FIVE-sdnn.csv\n",
      "OpenBCISession_2020-02-29_17-19-28-ELI-sdnn.csv\n",
      "OpenBCISession_2020-02-06_11-26-48-TWO-rmssd.csv\n",
      "OpenBCISession_2020-02-07_12-09-54-SIX-sdnn.csv\n",
      "OpenBCISession_2020-02-23_18-14-52-ISH-sdnn.csv\n",
      "OpenBCISession_2020-02-06_11-26-48-TWO-bpm.csv\n",
      "OpenBCISession_2020-02-06_12-08-05-THREE-bpm.csv\n",
      "OpenBCISession_2020-02-07_12-09-54-SIX-pnn50.csv\n",
      "OpenBCISession_2020-02-10_10-55-19=ONE.2-pnn50.csv\n",
      "OpenBCISession_2020-02-29_17-51-57-BAHAR-rmssd.csv\n",
      "OpenBCISession_2020-02-10_10-55-19=ONE.2-sdnn.csv\n",
      "OpenBCISession_2020-02-23_16-49-310-VIR-bpm.csv\n",
      "OpenBCISession_2020-02-06_11-26-48-TWO-sdnn.csv\n",
      "OpenBCISession_2020-02-06_12-08-05-THREE-rmssd.csv\n",
      "OpenBCISession_2020-02-29_17-19-28-ELI-bpm.csv\n",
      "OpenBCISession_2020-02-29_17-19-28-ELI-rmssd.csv\n",
      "OpenBCISession_2020-02-14_11-43-46-EIGHT-rmssd.csv\n",
      "OpenBCISession_2020-02-06_12-08-05-THREE-sdnn.csv\n",
      "OpenBCISession_2020-02-14_11-43-46-EIGHT-bpm.csv\n",
      "OpenBCISession_2020-02-14_11-43-46-EIGHT-pnn50.csv\n",
      "OpenBCISession_2020-02-14_11-09-00-SEVEN-rmssd.csv\n",
      "OpenBCISession_2020-02-29_17-51-57-BAHAR-pnn50.csv\n",
      "OpenBCISession_2020-02-10_10-55-19=ONE.2-rmssd.csv\n",
      "OpenBCISession_2020-02-14_11-09-00-SEVEN-bpm.csv\n",
      "OpenBCISession_2020-02-07_12-09-54-SIX-bpm.csv\n",
      "OpenBCISession_2020-02-06_12-08-05-THREE-pnn50.csv\n",
      "OpenBCISession_2020-02-07_10-42-36-FOUR.2-sdnn.csv\n",
      "OpenBCISession_2020-02-07_10-42-36-FOUR.2-pnn50.csv\n",
      "OpenBCISession_2020-02-23_18-14-52-ISH-pnn50.csv\n",
      "OpenBCISession_2020-02-23_16-49-310-VIR-sdnn.csv\n",
      "OpenBCISession_2020-02-07_10-42-36-FOUR.2-bpm.csv\n",
      "OpenBCISession_2020-02-14_11-09-00-SEVEN-sdnn.csv\n",
      "OpenBCISession_2020-02-23_18-14-52-ISH-bpm.csv\n",
      "OpenBCISession_2020-02-07_11-12-39-FIVE-pnn50.csv\n",
      "OpenBCISession_2020-02-14_11-43-46-EIGHT-sdnn.csv\n",
      "OpenBCISession_2020-02-23_16-49-310-VIR-pnn50.csv\n",
      "OpenBCISession_2020-02-10_10-55-19=ONE.2-bpm.csv\n",
      "OpenBCISession_2020-02-06_11-26-48-TWO-pnn50.csv\n",
      "OpenBCISession_2020-02-29_17-51-57-BAHAR-bpm.csv\n",
      "OpenBCISession_2020-02-07_11-12-39-FIVE-bpm.csv\n",
      "OpenBCISession_2020-02-07_11-12-39-FIVE-rmssd.csv\n"
     ]
    },
    {
     "data": {
      "text/plain": [
       "[None,\n",
       " None,\n",
       " None,\n",
       " None,\n",
       " None,\n",
       " None,\n",
       " None,\n",
       " None,\n",
       " None,\n",
       " None,\n",
       " None,\n",
       " None,\n",
       " None,\n",
       " None,\n",
       " None,\n",
       " None,\n",
       " None,\n",
       " None,\n",
       " None,\n",
       " None,\n",
       " None,\n",
       " None,\n",
       " None,\n",
       " None,\n",
       " None,\n",
       " None,\n",
       " None,\n",
       " None,\n",
       " None,\n",
       " None,\n",
       " None,\n",
       " None,\n",
       " None,\n",
       " None,\n",
       " None,\n",
       " None,\n",
       " None,\n",
       " None,\n",
       " None,\n",
       " None,\n",
       " None,\n",
       " None,\n",
       " None,\n",
       " None,\n",
       " None,\n",
       " None,\n",
       " None,\n",
       " None]"
      ]
     },
     "execution_count": 63,
     "metadata": {},
     "output_type": "execute_result"
    }
   ],
   "source": [
    "t=len(files)\n",
    "if len(files)>32:\n",
    "    t=32\n",
    "p = Pool(len(files))\n",
    "p.map(av, files)"
   ]
  },
  {
   "cell_type": "code",
   "execution_count": 10,
   "metadata": {},
   "outputs": [
    {
     "data": {
      "text/plain": [
       "'llow'"
      ]
     },
     "execution_count": 10,
     "metadata": {},
     "output_type": "execute_result"
    }
   ],
   "source": []
  },
  {
   "cell_type": "code",
   "execution_count": null,
   "metadata": {},
   "outputs": [],
   "source": []
  }
 ],
 "metadata": {
  "kernelspec": {
   "display_name": "Python 3",
   "language": "python",
   "name": "python3"
  },
  "language_info": {
   "codemirror_mode": {
    "name": "ipython",
    "version": 3
   },
   "file_extension": ".py",
   "mimetype": "text/x-python",
   "name": "python",
   "nbconvert_exporter": "python",
   "pygments_lexer": "ipython3",
   "version": "3.7.4"
  }
 },
 "nbformat": 4,
 "nbformat_minor": 4
}

{
 "cells": [
  {
   "cell_type": "code",
   "execution_count": 1,
   "metadata": {},
   "outputs": [],
   "source": [
    "import os\n",
    "from multiprocessing import Pool\n",
    "import matplotlib.pyplot as plt\n",
    "import pickle\n",
    "import numpy as np\n",
    "import plotly.graph_objects as go\n",
    "import plotly.express as px\n",
    "import plotly.io as pio\n",
    "from plotly.subplots import make_subplots\n",
    "\n",
    "pio.renderers\n",
    "pio.orca.config.executable = '/home/sean/anaconda3/lib/orca_app/orca'"
   ]
  },
  {
   "cell_type": "code",
   "execution_count": 2,
   "metadata": {},
   "outputs": [],
   "source": [
    "baseFolder='./pickled-filt'\n",
    "files=[f for f in os.listdir(baseFolder) if not f.startswith('.')]\n",
    "\n"
   ]
  },
  {
   "cell_type": "code",
   "execution_count": 3,
   "metadata": {},
   "outputs": [],
   "source": [
    "def better(name):\n",
    "    data=pickle.load(open(baseFolder+'/'+name, 'rb'))\n",
    "    data=np.transpose(np.array(data))\n",
    "    # fig = px.line(y=data[1], title='Life expectancy in Canada')\n",
    "    channels=['Fp1', 'Fp2', 'C3', 'C4', 'P7', 'P8', 'O1', 'O2', 'F7', 'F8', 'F3', 'F4', 'T7', 'T8', 'P3', 'P4']\n",
    "    fig = make_subplots(rows=16, cols=1)\n",
    "    fig.update_layout(\n",
    "        autosize=False,\n",
    "        width=32700,\n",
    "        height=2000,\n",
    "        margin=dict(\n",
    "            l=10,\n",
    "            r=10,\n",
    "            b=10,\n",
    "            t=10,\n",
    "            pad=1\n",
    "        ))\n",
    "    for i in range(0, 16):\n",
    "        fig.add_trace(go.Scatter(x=list(range(len(data[1]))), y=data[i+1], name=channels[i], line=dict(width=1)), row=i+1, col=1, secondary_y=False)\n",
    "    fig.write_image('./participantPlots/' + name+baseFolder[9:] + '.png')\n"
   ]
  },
  {
   "cell_type": "code",
   "execution_count": 4,
   "metadata": {},
   "outputs": [],
   "source": [
    "# fig.write_image('./participantPlots/figure.png')\n",
    "#     fig.show(renderer=\"jpg\")"
   ]
  },
  {
   "cell_type": "code",
   "execution_count": 5,
   "metadata": {},
   "outputs": [
    {
     "ename": "SyntaxError",
     "evalue": "invalid syntax (<ipython-input-5-9f07d0953d13>, line 6)",
     "output_type": "error",
     "traceback": [
      "\u001b[0;36m  File \u001b[0;32m\"<ipython-input-5-9f07d0953d13>\"\u001b[0;36m, line \u001b[0;32m6\u001b[0m\n\u001b[0;31m    plt.plot(data[])\u001b[0m\n\u001b[0m                  ^\u001b[0m\n\u001b[0;31mSyntaxError\u001b[0m\u001b[0;31m:\u001b[0m invalid syntax\n"
     ]
    }
   ],
   "source": [
    "# def plo(name):\n",
    "#     data=pickle.load(open(baseFolder+'/'+name, 'rb'))\n",
    "# #     plt.figure(figsize=(250,10), dpi=250)\n",
    "#     data=np.transpose(np.array(data))\n",
    "#     plt.figure(figsize=(250,10), dpi=250)\n",
    "#     plt.plot(data[])\n",
    "# #     fig, axs = plt.subplots(16,figsize=(160,8))\n",
    "# #     fig.set_size_inches(160, 8)\n",
    "# #     for i in range(0, 16):\n",
    "# #         axs[i].plot(data[i+1], linewidth=1)\n",
    "#     plt.savefig('./participantPlots/' + name+baseFolder[9:] + '.jpg', quality=100)\n",
    "# #     fig.savefig('./participantPlots/' + name+baseFolder[9:] + '.jpg', quality=100, dpi=400)\n",
    "# #     plt.show()"
   ]
  },
  {
   "cell_type": "code",
   "execution_count": null,
   "metadata": {},
   "outputs": [],
   "source": [
    "# plo(files[0])"
   ]
  },
  {
   "cell_type": "code",
   "execution_count": 6,
   "metadata": {},
   "outputs": [
    {
     "data": {
      "text/plain": [
       "[None, None, None, None, None, None, None, None, None, None, None, None, None]"
      ]
     },
     "execution_count": 6,
     "metadata": {},
     "output_type": "execute_result"
    }
   ],
   "source": [
    "baseFolder='./pickled-filt'\n",
    "files=[f for f in os.listdir(baseFolder) if not f.startswith('.')]\n",
    "p = Pool(30)\n",
    "p.map(better, files)\n",
    "baseFolder='./pickled-avg'\n",
    "files=[f for f in os.listdir(baseFolder) if not f.startswith('.')]\n",
    "p = Pool(30)\n",
    "p.map(better, files)"
   ]
  },
  {
   "cell_type": "code",
   "execution_count": 7,
   "metadata": {},
   "outputs": [
    {
     "name": "stdout",
     "output_type": "stream",
     "text": [
      "Creating directory participantPlots\n",
      "Uploading /home/sean/pench/participantPlots/OpenBCISession_2020-02-07_11-12-39-FIVE-avg.png\n",
      "Uploading /home/sean/pench/participantPlots/OpenBCISession_2020-02-06_12-08-05-THREE-avg.png\n",
      "Creating directory .ipynb_checkpoints             \n",
      "Uploading /home/sean/pench/participantPlots/OpenBCISession_2020-02-29_17-51-57-BAHAR-filt.png\n",
      "Uploading /home/sean/pench/participantPlots/OpenBCISession_2020-02-29_17-19-28-ELI-filt.png\n",
      "Uploading /home/sean/pench/participantPlots/OpenBCISession_2020-02-07_12-09-54-SIX-avg.png\n",
      "Uploading /home/sean/pench/participantPlots/OpenBCISession_2020-02-06_11-26-48-TWO-filt.png\n",
      "Uploading /home/sean/pench/participantPlots/OpenBCISession_2020-03-06_10-28-17-LUKE-avg.png\n",
      "Uploading /home/sean/pench/participantPlots/OpenBCISession_2020-02-14_11-43-46-EIGHT-avg.png\n",
      "Uploading /home/sean/pench/participantPlots/OpenBCISession_2020-02-29_17-51-57-BAHAR-avg.png\n",
      "Uploading /home/sean/pench/participantPlots/OpenBCISession_2020-02-07_11-12-39-FIVE-filt.png\n",
      "Uploading /home/sean/pench/participantPlots/OpenBCISession_2020-02-14_11-43-46-EIGHT-filt.png\n",
      "Uploading /home/sean/pench/participantPlots/OpenBCISession_2020-02-29_17-19-28-ELI-avg.png\n",
      "Uploading /home/sean/pench/participantPlots/OpenBCISession_2020-02-07_10-42-36-FOUR.2-filt.png\n",
      "Uploading /home/sean/pench/participantPlots/OpenBCISession_2020-02-23_18-14-52-ISH-avg.png\n",
      "Uploading /home/sean/pench/participantPlots/OpenBCISession_2020-02-07_10-42-36-FOUR.2-avg.png\n",
      "Uploading /home/sean/pench/participantPlots/OpenBCISession_2020-02-23_16-49-310-VIR-filt.png\n",
      "Uploading /home/sean/pench/participantPlots/OpenBCISession_2020-02-10_10-55-19=ONE.2-filt.png\n",
      "Uploading /home/sean/pench/participantPlots/OpenBCISession_2020-02-23_18-14-52-ISH-filt.png\n",
      "Uploading /home/sean/pench/participantPlots/OpenBCISession_2020-02-06_11-26-48-TWO-avg.png\n",
      "Uploading /home/sean/pench/participantPlots/OpenBCISession_2020-02-14_11-09-00-SEVEN-avg.png\n",
      "Uploading /home/sean/pench/participantPlots/OpenBCISession_2020-02-06_12-08-05-THREE-filt.png\n",
      "Uploading /home/sean/pench/participantPlots/OpenBCISession_2020-02-10_10-55-19=ONE.2-avg.png\n",
      "Uploading /home/sean/pench/participantPlots/OpenBCISession_2020-03-06_10-28-17-LUKE-filt.png\n",
      "Uploading /home/sean/pench/participantPlots/OpenBCISession_2020-02-07_12-09-54-SIX-filt.png\n",
      "Uploading /home/sean/pench/participantPlots/OpenBCISession_2020-02-14_11-09-00-SEVEN-filt.png\n",
      "Uploading /home/sean/pench/participantPlots/OpenBCISession_2020-02-23_16-49-310-VIR-avg.png\n",
      "                                                  \r"
     ]
    }
   ],
   "source": [
    "!~/gdrive-linux-x64 upload -r --parent 1D6juzTIOBvPzenIV5Qqu-ObHcqjIH4I5 ~/pench/participantPlots/"
   ]
  },
  {
   "cell_type": "code",
   "execution_count": null,
   "metadata": {},
   "outputs": [],
   "source": []
  }
 ],
 "metadata": {
  "kernelspec": {
   "display_name": "Python 3",
   "language": "python",
   "name": "python3"
  },
  "language_info": {
   "codemirror_mode": {
    "name": "ipython",
    "version": 3
   },
   "file_extension": ".py",
   "mimetype": "text/x-python",
   "name": "python",
   "nbconvert_exporter": "python",
   "pygments_lexer": "ipython3",
   "version": "3.7.4"
  }
 },
 "nbformat": 4,
 "nbformat_minor": 4
}
